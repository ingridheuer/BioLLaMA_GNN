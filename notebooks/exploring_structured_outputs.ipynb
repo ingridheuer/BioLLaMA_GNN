{
 "cells": [
  {
   "cell_type": "markdown",
   "metadata": {},
   "source": [
    "# Structured Outputs with LlaMA 8B"
   ]
  },
  {
   "cell_type": "markdown",
   "metadata": {},
   "source": [
    "In order to run more advanced functions in our system, such as an information retrieval backend or another ML model (such as a GNN ) we need to get structured outputs from the LLM."
   ]
  },
  {
   "cell_type": "code",
   "execution_count": 1,
   "metadata": {},
   "outputs": [],
   "source": [
    "import requests\n",
    "import os\n",
    "from dotenv import load_dotenv\n",
    "import pandas as pd\n",
    "import pickle\n",
    "import numpy as np\n",
    "from huggingface_hub import InferenceClient\n",
    "from transformers import pipeline\n",
    "\n",
    "data_processed = \"../data/processed/\"\n",
    "data_external = \"../data/external/\"\n",
    "\n",
    "load_dotenv(\".env\")\n",
    "API_TOKEN = os.getenv(\"biollama_gnn_exploration\")"
   ]
  }
 ],
 "metadata": {
  "kernelspec": {
   "display_name": "env",
   "language": "python",
   "name": "python3"
  },
  "language_info": {
   "codemirror_mode": {
    "name": "ipython",
    "version": 3
   },
   "file_extension": ".py",
   "mimetype": "text/x-python",
   "name": "python",
   "nbconvert_exporter": "python",
   "pygments_lexer": "ipython3",
   "version": "3.10.12"
  }
 },
 "nbformat": 4,
 "nbformat_minor": 2
}
