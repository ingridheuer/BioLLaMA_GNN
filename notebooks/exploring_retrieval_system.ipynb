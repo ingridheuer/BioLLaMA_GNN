{
 "cells": [
  {
   "cell_type": "markdown",
   "metadata": {},
   "source": [
    "# Implementing an Information Retrieval System"
   ]
  },
  {
   "cell_type": "markdown",
   "metadata": {},
   "source": [
    "A key aspect of RAG systems is an Information Retrieval component. This is the part of the overall system that deals with finding the correct document (or in this case, nodes and clusters) to answer the user's query. If we dont implement a good IR module, the system will not be able to find the corresponding data and will likely hallucinate its answers.\n",
    "\n",
    "Here I'm experimenting with a few \"classic\" NLP techniques to index documents and extract meaning from them. This approach allows me to run this part of the system locally with very few resources and without using additional HF calls, which makes it very resource-effective. I'm generally following the guidelines provided by [anthropic's recent blogpost](https://www.anthropic.com/news/contextual-retrieval)."
   ]
  },
  {
   "cell_type": "markdown",
   "metadata": {},
   "source": [
    "## Setup"
   ]
  },
  {
   "cell_type": "code",
   "execution_count": 1,
   "metadata": {},
   "outputs": [],
   "source": [
    "import pandas as pd\n",
    "import pickle\n",
    "import numpy as np\n",
    "import bm25s \n",
    "\n",
    "data_processed = \"../data/processed/\"\n",
    "data_external = \"../data/external/\""
   ]
  },
  {
   "cell_type": "markdown",
   "metadata": {},
   "source": [
    "## Load Data"
   ]
  },
  {
   "cell_type": "markdown",
   "metadata": {},
   "source": [
    "I will be using preprocessed documents which have already been cleaned, filtered and lemmatized. Since these are medical texts, i dont think stemming will be a good idea since we could potentially lose a lot of specific vocabulary."
   ]
  },
  {
   "cell_type": "code",
   "execution_count": 4,
   "metadata": {},
   "outputs": [],
   "source": [
    "with open(data_external+\"graph_data/processed_node_documents.pickle\", 'rb') as handle:\n",
    "    processed_node_documents = pickle.load(handle)\n",
    "\n",
    "processed_node_documents = {int(k):v for k,v in processed_node_documents.items()}\n",
    "graph_node_data = pd.read_csv(data_external+\"graph_data/graph_node_data.csv\")\n",
    "raw_node_documents = pd.read_csv(data_external+\"graph_data/disease_attributes.csv\")"
   ]
  },
  {
   "cell_type": "markdown",
   "metadata": {},
   "source": [
    "Generating \"cluster documents\" which are compilations of all of the diseases they contain and their information. These are highly noisy and unstructured documents."
   ]
  },
  {
   "cell_type": "code",
   "execution_count": 41,
   "metadata": {},
   "outputs": [],
   "source": [
    "def cluster_as_document(cluster_id,cluster_algorithm):\n",
    "\n",
    "    cluster_nodes = graph_node_data.loc[graph_node_data[cluster_algorithm] == cluster_id, \"node_index\"].values\n",
    "    cluster_corpus = [processed_node_documents[node_index] for node_index in cluster_nodes]\n",
    "    cluster_document = \" \".join(cluster_corpus)\n",
    "\n",
    "    return cluster_document\n",
    "\n",
    "infomap_ids = range(int(graph_node_data.dropna().comunidades_infomap.max()))\n",
    "corpus = [cluster_as_document(cluster_id,\"comunidades_infomap\") for cluster_id in infomap_ids]"
   ]
  },
  {
   "cell_type": "code",
   "execution_count": 50,
   "metadata": {},
   "outputs": [],
   "source": [
    "disease_attributes = pd.merge(graph_node_data[[\"node_index\",\"comunidades_infomap\",\"comunidades_louvain\"]],raw_node_documents,left_on=\"node_index\",right_on=\"node_index\",how=\"right\").set_index(\"node_index\",drop=True)\n",
    "\n",
    "def node_as_document(node_index,df,join_titles):\n",
    "    if not pd.isna(disease_attributes.loc[node_index,\"umls_description\"]):\n",
    "        data = df.loc[node_index,[\"node_name\",\"umls_description\"]].values.astype(str)\n",
    "        if join_titles:\n",
    "            document = \" is described by UMLS as \".join(data)\n",
    "        else: \n",
    "            document = str(data[1])\n",
    "    elif not pd.isna(disease_attributes.loc[node_index,\"mondo_definition\"]):\n",
    "        data = df.loc[node_index,[\"node_name\",\"mondo_definition\"]].values.astype(str)\n",
    "        if join_titles:\n",
    "            document = \" is defined by MONDO as \".join(data)\n",
    "        else: \n",
    "            document = str(data[1])\n",
    "    elif not pd.isna(disease_attributes.loc[node_index,\"orphanet_definition\"]):\n",
    "        data = df.loc[node_index,[\"node_name\",\"orphanet_definition\"]].values.astype(str)\n",
    "        if join_titles:\n",
    "            document = \" is defined by Orphanet as \".join(data)\n",
    "        else: \n",
    "            document = str(data[1])\n",
    "    else:\n",
    "        document = df.loc[node_index,\"node_name\"]\n",
    "    return document\n",
    "\n",
    "def cluster_as_raw_document(cluster_id,cluster_algorithm,join_titles=False):\n",
    "    cluster_nodes = graph_node_data[graph_node_data.node_type == \"disease\"].loc[graph_node_data[cluster_algorithm] == cluster_id, \"node_index\"].values\n",
    "    cluster_corpus = [node_as_document(node_index,disease_attributes,join_titles) for node_index in cluster_nodes]\n",
    "    cluster_document = \" \".join(cluster_corpus)\n",
    "\n",
    "    return cluster_document"
   ]
  },
  {
   "cell_type": "code",
   "execution_count": 6,
   "metadata": {},
   "outputs": [],
   "source": [
    "class GraphCorpus():\n",
    "    def __init__(self, data_path):\n",
    "        self.data_path = data_path\n",
    "        self.node_data = pd.read_csv(self.data_path+\"graph_node_data.csv\")\n",
    "\n",
    "        with open(self.data_path+\"processed_node_documents.pickle\", 'rb') as handle:\n",
    "            processed_node_documents = pickle.load(handle)\n",
    "        self.processed_node_documents = {int(k):v for k,v in processed_node_documents.items()}\n",
    "\n",
    "        raw_node_documents = pd.read_csv(self.data_path+\"disease_attributes.csv\")\n",
    "        self.disease_attributes = pd.merge(self.node_data[[\"node_index\",\"comunidades_infomap\"]],raw_node_documents,left_on=\"node_index\",right_on=\"node_index\",how=\"right\").set_index(\"node_index\",drop=True)\n",
    "    \n",
    "    def node_as_document(self,node_index,join_titles):\n",
    "        if not pd.isna(self.disease_attributes.loc[node_index,\"umls_description\"]):\n",
    "            data = self.disease_attributes.loc[node_index,[\"node_name\",\"umls_description\"]].values.astype(str)\n",
    "            if join_titles:\n",
    "                document = \" is described by UMLS as \".join(data)\n",
    "            else: \n",
    "                document = str(data[1])\n",
    "        elif not pd.isna(self.disease_attributes.loc[node_index,\"mondo_definition\"]):\n",
    "            data = self.disease_attributes.loc[node_index,[\"node_name\",\"mondo_definition\"]].values.astype(str)\n",
    "            if join_titles:\n",
    "                document = \" is defined by MONDO as \".join(data)\n",
    "            else: \n",
    "                document = str(data[1])\n",
    "        elif not pd.isna(self.disease_attributes.loc[node_index,\"orphanet_definition\"]):\n",
    "            data = self.disease_attributes.loc[node_index,[\"node_name\",\"orphanet_definition\"]].values.astype(str)\n",
    "            if join_titles:\n",
    "                document = \" is defined by Orphanet as \".join(data)\n",
    "            else: \n",
    "                document = str(data[1])\n",
    "        else:\n",
    "            document = self.disease_attributes.loc[node_index,\"node_name\"]\n",
    "        return document\n",
    "\n",
    "    def cluster_as_raw_document(self,cluster_id,join_titles=False):\n",
    "        cluster_nodes = self.node_data[self.node_data.node_type == \"disease\"].loc[self.node_data[\"comunidades_infomap\"] == cluster_id, \"node_index\"].values\n",
    "        cluster_corpus = [self.node_as_document(node_index,join_titles) for node_index in cluster_nodes]\n",
    "        cluster_document = \" \".join(cluster_corpus)\n",
    "\n",
    "        return cluster_document\n",
    "\n",
    "    def cluster_as_document(self,cluster_id,cluster_algorithm):\n",
    "        cluster_nodes = self.node_data.loc[self.node_data[cluster_algorithm] == cluster_id, \"node_index\"].values\n",
    "        cluster_corpus = [self.processed_node_documents[node_index] for node_index in cluster_nodes]\n",
    "        cluster_document = \" \".join(cluster_corpus)\n",
    "\n",
    "        return cluster_document\n",
    "    \n",
    "    def get_cluster_corpus(self):\n",
    "        infomap_ids = range(int(self.node_data.dropna().comunidades_infomap.max()))\n",
    "    \n",
    "        return [self.cluster_as_document(cluster_id,\"comunidades_infomap\") for cluster_id in infomap_ids]\n"
   ]
  },
  {
   "cell_type": "code",
   "execution_count": 95,
   "metadata": {},
   "outputs": [],
   "source": [
    "graph_corpus = GraphCorpus(\"../data/external/graph_data/\")"
   ]
  },
  {
   "cell_type": "code",
   "execution_count": 96,
   "metadata": {},
   "outputs": [
    {
     "data": {
      "text/plain": [
       "'A type of acute or chronic skin reaction in which sensitivity is manifested by reactivity to materials or substances coming in contact with the skin. It may involve allergic or non-allergic mechanisms. An inflammatory process in skin caused by an exogenous agent that directly or indirectly injure the skin. If the offending agent is identified and removed, the eruption will resolve. An unusual or patterned eruption may be a clue to the presence of a contact dermatitis. Patch testing may be helpful in the differential diagnosis.  An inflammatory skin condition caused by direct contact between the skin and either an irritating substance or an allergen. type of acute or chronic skin reaction in which sensitivity is manifested by reactivity to materials or substances coming in contact with the skin; may involve allergic or non-allergic mechanisms. A recurrent contact dermatitis caused by substances found in the work place. Contact dermatitis associated with allergens or irritants found in the workplace. A polymorphic pattern of inflammatory reaction of the skin in response to contact with external irritants or allergens. A non-allergic contact dermatitis caused by prolonged exposure to irritants and not explained by delayed hypersensitivity mechanisms. An inflammatory skin condition caused by direct contact between the skin and an irritating substance. It is typically manifested by erythema, mild edema, and scaling at the affected site. An inflammatory skin condition caused by an immune response to direct contact between the skin and an allergen. It consists of a delayed type of allergic reaction at the affected site with resulting red, swollen, and blistered skin that may itch or leak. A contact dermatitis due to allergic sensitization to various substances. These substances subsequently produce inflammatory reactions in the skin of those who have acquired hypersensitivity to them as a result of prior exposure. A type of acute or chronic skin reaction in which sensitivity is manifested by reactivity to materials or substances coming in contact with the skin. It may involve allergic or non-allergic mechanisms. An inflammatory process in skin caused by an exogenous agent that directly or indirectly injure the skin. If the offending agent is identified and removed, the eruption will resolve. An unusual or patterned eruption may be a clue to the presence of a contact dermatitis. Patch testing may be helpful in the differential diagnosis.  An inflammatory skin condition caused by direct contact between the skin and either an irritating substance or an allergen. type of acute or chronic skin reaction in which sensitivity is manifested by reactivity to materials or substances coming in contact with the skin; may involve allergic or non-allergic mechanisms. A recurrent contact dermatitis caused by substances found in the work place. Contact dermatitis associated with allergens or irritants found in the workplace. A hypersensitivity condition of skin or mucous membranes at the site of direct surface contact with irritants or allergens. A general class that includes both immunologic and non-immunologic conditions. A polymorphic pattern of inflammatory reaction of the skin in response to contact with external irritants or allergens. Contact hypersensitivity is an inflammatory response induced by antigen-reactive T cells that are exposed to antigen on the skin surface Poison ivy is a frequent cause of such reactivity, due to the urushiol from the plant, as are a variety of antigens derived from industrial exposure These antigens induce the appearance of Th1-like T cells, which presumably produce ifn to activate macrophages. A type of eczema characterized by pruritic coin-shaped patches on the skin. Nummular eczema most commonly occurs on the extremities, particularly the legs, but may occur anywhere on the trunk, hands, or feet  A delayed hypersensitivity involving the reaction between sunlight or other radiant energy source and a chemical substance to which the individual has been previously exposed and sensitized. It manifests as a papulovesicular, eczematous, or exudative dermatitis occurring chiefly on the light-exposed areas of the skin. A red, edematous rash that occurs on areas of the skin with recent exposure to sunlight. The cardinal symptom is severely pruritic skin lesions. Macular, papular, papulovesicular, urticarial, multiforme- and plaque-like variants are differentiated morphologically, hence the name polymorphous. Usually one morphology dominates in a single individual The skin lesions develop a few hours to several days after sun exposure. Initially, patchy erythema develops, accompanied by pruritus. Distinct lesions then develop. The upper chest, upper arms, backs of the hands, thighs, and the sides of the face are the primary localizations. The skin lesions resolve spontaneously within several days of ceasing sun exposure and do not leave behind any traces.  Increased skin reactivity to light exposure. increased sensitivity of the skin to light and other sources of uv A disorder characterized by an increase in sensitivity of the skin to light. Dermatitis caused by exposure to sunlight An abnormal inflammatory skin condition resulting from exposure to ultraviolet light, most commonly sunlight. May result from phototoxic or photoallergic reactions or both. Abnormal responses to sunlight or artificial light due to extreme reactivity of light-absorbing molecules in tissues. It refers almost exclusively to skin photosensitivity, including sunburn, reactions due to repeated prolonged exposure in the absence of photosensitizing factors, and reactions requiring photosensitizing factors such as photosensitizing agents and certain diseases. With restricted reference to skin tissue, it does not include photosensitivity of the eye to light, as in photophobia or photosensitive epilepsy. Increased sensitivity of the skin to light exposure. An increased sensitivity of the skin to light. Photosensitivity may result in a rash upon exposure to the sun Photosensitivity can be diagnosed by phototests in which light is shone on small areas of skin.  A nonimmunologic, chemically induced type of photosensitivity producing a sometimes vesiculating dermatitis. It results in hyperpigmentation and desquamation of the light-exposed areas of the skin. A condition in which the skin or eyes become very sensitive to sunlight or other forms of light. It can be caused by taking certain drugs, or rubbing certain essential oils or other topical agents into the skin. Phototoxicity causes sunburn, blisters, and other skin problems. A nonimmunologic, chemically induced type of photosensitivity. Dermatitis caused or precipitated by exposure to ultraviolet sunlight, or by mediating phototoxic or photoallergic material in response to ultraviolet sunlight.'"
      ]
     },
     "execution_count": 96,
     "metadata": {},
     "output_type": "execute_result"
    }
   ],
   "source": [
    "graph_corpus.cluster_as_raw_document(62)"
   ]
  },
  {
   "cell_type": "markdown",
   "metadata": {},
   "source": [
    "## Index corpus with BM25-S"
   ]
  },
  {
   "cell_type": "code",
   "execution_count": 52,
   "metadata": {},
   "outputs": [
    {
     "data": {
      "application/vnd.jupyter.widget-view+json": {
       "model_id": "5b41f8963ff64a3aaa004946b4c08e1e",
       "version_major": 2,
       "version_minor": 0
      },
      "text/plain": [
       "Split strings:   0%|          | 0/1147 [00:00<?, ?it/s]"
      ]
     },
     "metadata": {},
     "output_type": "display_data"
    },
    {
     "data": {
      "application/vnd.jupyter.widget-view+json": {
       "model_id": "20ec693527a44ba9b389ca755de3682c",
       "version_major": 2,
       "version_minor": 0
      },
      "text/plain": [
       "BM25S Count Tokens:   0%|          | 0/1147 [00:00<?, ?it/s]"
      ]
     },
     "metadata": {},
     "output_type": "display_data"
    },
    {
     "data": {
      "application/vnd.jupyter.widget-view+json": {
       "model_id": "cccbef626bc640b7974fd28ee64698a0",
       "version_major": 2,
       "version_minor": 0
      },
      "text/plain": [
       "BM25S Compute Scores:   0%|          | 0/1147 [00:00<?, ?it/s]"
      ]
     },
     "metadata": {},
     "output_type": "display_data"
    }
   ],
   "source": [
    "# Tokenize the corpus and only keep the ids (faster and saves memory)\n",
    "corpus_tokens = bm25s.tokenize(corpus, stopwords=\"en\")\n",
    "\n",
    "# Create the BM25 model and index the corpus\n",
    "retriever = bm25s.BM25()\n",
    "retriever.index(corpus_tokens)"
   ]
  },
  {
   "cell_type": "code",
   "execution_count": 58,
   "metadata": {},
   "outputs": [
    {
     "data": {
      "application/vnd.jupyter.widget-view+json": {
       "model_id": "ad2d7200572b408bb4d0ad80afddd0ab",
       "version_major": 2,
       "version_minor": 0
      },
      "text/plain": [
       "Split strings:   0%|          | 0/1 [00:00<?, ?it/s]"
      ]
     },
     "metadata": {},
     "output_type": "display_data"
    },
    {
     "data": {
      "application/vnd.jupyter.widget-view+json": {
       "model_id": "1f4cc0e5966f45f5b9e92b10f3303320",
       "version_major": 2,
       "version_minor": 0
      },
      "text/plain": [
       "BM25S Retrieve:   0%|          | 0/1 [00:00<?, ?it/s]"
      ]
     },
     "metadata": {},
     "output_type": "display_data"
    },
    {
     "name": "stdout",
     "output_type": "stream",
     "text": [
      "Rank 1 (score: 3.67):  familial alzheimer fad  early onset autosomal dominant alzheimer eoad progressive dementia reduction cognitive function eoad present phenotype sporadic alzheimer ad early age onset usually year old  early onset autosomal dominant alzheimer eoad progressive dementia reduction cognitive function eoad present phenotype sporadic alzheimer ad early age onset usually year old   alzheimer s  progressive neurodegenerative loss function death nerve cell area brain lead loss cognitive function memory language  acute potentially fatal metabolic condition cerebral edema fatty liver hypoglycemia occurs primarily child associate use aspirin treatment viral infection occur absence aspirin use disable degenerative nervous occur middle age old person dementia failure memory recent event follow total incapacitation death alzheimer differentiate age onset genetic characteristic early onset form late onset form form identify ad ad ad clinical characteristic alzheimer similar pick alzheimer s common form dementia old people dementia brain seriously affect person s ability carry daily activity ad begin slowly involves brain control thought memory language people ad trouble remember thing happen recently people know related problem mild cognitive impairment cause memory problem normal people age people mci develop ad ad time symptom bad people recognize family member trouble speak reading write forget brush teeth comb hair later anxious aggressive wander away home eventually need total care cause great stress family member care ad usually begin age risk old risk high family member treatment stop drug help symptom bad limited time national institute age rare form dementia familial clinical feature aphasia apraxia confusion anomia memory loss personality deterioration pattern consistent pathologic finding circumscribed atrophy pole frontal lobe temporal lobe neuronal loss maximal hippocampus entorhinal cortex amygdala balloon cortical neuron contain argentophylic body adam et al principle neurology ed pp1057 rare damage brain liver cause death treat occurs child young year fever cause virus chickenpox flu aspirin viral illness increase risk reye reye rare illness affect blood liver brain recently viral infection follow illness affect child teen develop quickly warn common flu season symptom nausea vomit listlessness personality change irritability combativeness confusion delirium convulsion loss consciousness symptom occur soon viral illness seek medical attention immediately reye lead coma brain death quick diagnosis treatment critical treatment focus prevent brain damage cure cause reye unknown study aspirin increase risk health care professional recommend pain reliever young patient national institute neurological stroke rare acute fatal childhood occur sequel varicella viral upper respiratory infection childhood marked recurrent vomit elevate serum transaminase level distinctive change liver viscera encephalopathic phase acute brain swell disturbance consciousness seizure follow degenerative brain insidious onset dementia impairment memory judgment attention span problem solve skill follow severe apraxia global loss cognitive ability condition primarily occurs age marked pathologically severe cortical atrophy triad senile plaque neurofibrillary tangle neuropil thread presence dementia individual young age rare neurodegenerative lead dementia frontotemporal lobar degeneration accumulation tau protein form pick body degenerative brain insidious onset dementia impairment memory judgment attention span problem solve skill follow severe apraxia global loss cognitive ability condition primarily occurs age marked pathologically severe cortical atrophy triad senile plaque neurofibrillary tangle neuropil thread loss intellectual ability elderly person interfere person s activity neurodegenerative cns result progressive loss memory intellectual function begin middle later year brain lesion neurofibrillary tangle neuritic plaque result genetic metabolic defect damage exogenous endogenous toxin cerebral cortex atrophy progressive cerebral demyelination dementia mental deterioration common acute potentially fatal metabolic cerebral edema fatty liver hypoglycemia occurs primarily child associate use aspirin treatment viral infection occur absence aspirin use brain usually start late middle age old age bad time symptom loss memory confusion difficulty think change language behavior personality progressive neurodegenerative loss function death nerve cell area brain lead loss cognitive function memory language loss intellectual function memory learn reason problem solve abstract think vegetative function remain intact form encephalopathy fatty infiltration liver brain edema vomit rapidly progress seizure coma death cause generalize loss mitochondrial function lead disturbance fatty acid carnitine metabolism   alzheimer  alzheimer cause mutation adam10 gene   alzheimer   alzheimer susceptibility   alzheimer   alzheimer  degenerative brain insidious onset dementia impairment memory judgment attention span problem solve skill follow severe apraxia global loss cognitive ability condition primarily occurs age marked pathologically severe cortical atrophy triad senile plaque neurofibrillary tangle neuropil thread brain usually start late middle age old age bad time symptom loss memory confusion difficulty think change language behavior personality progressive neurodegenerative loss function death nerve cell area brain lead loss cognitive function memory language disable degenerative nervous occur middle age old person dementia failure memory recent event follow total incapacitation death alzheimer differentiate age onset genetic characteristic early onset form late onset form form identify ad ad ad clinical characteristic alzheimer similar pick alzheimer s common form dementia old people dementia brain seriously affect person s ability carry daily activity ad begin slowly involves brain control thought memory language people ad trouble remember thing happen recently people know related problem mild cognitive impairment cause memory problem normal people age people mci develop ad ad time symptom bad people recognize family member trouble speak reading write forget brush teeth comb hair later anxious aggressive wander away home eventually need total care cause great stress family member care ad usually begin age risk old risk high family member treatment stop drug help symptom bad limited time national institute age neurodegenerative cns result progressive loss memory intellectual function begin middle later year brain lesion neurofibrillary tangle neuritic plaque degenerative brain insidious onset dementia impairment memory judgment attention span problem solve skill follow severe apraxia global loss cognitive ability condition primarily occurs age marked pathologically severe cortical atrophy triad senile plaque neurofibrillary tangle neuropil thread   alzheimer  alzheimer s associate variation region 8p12 q22  degenerative brain insidious onset dementia impairment memory judgment attention span problem solve skill follow severe apraxia global loss cognitive ability condition primarily occurs age marked pathologically severe cortical atrophy triad senile plaque neurofibrillary tangle neuropil thread brain usually start late middle age old age bad time symptom loss memory confusion difficulty think change language behavior personality progressive neurodegenerative loss function death nerve cell area brain lead loss cognitive function memory language disable degenerative nervous occur middle age old person dementia failure memory recent event follow total incapacitation death alzheimer differentiate age onset genetic characteristic early onset form late onset form form identify ad ad ad clinical characteristic alzheimer similar pick alzheimer s common form dementia old people dementia brain seriously affect person s ability carry daily activity ad begin slowly involves brain control thought memory language people ad trouble remember thing happen recently people know related problem mild cognitive impairment cause memory problem normal people age people mci develop ad ad time symptom bad people recognize family member trouble speak reading write forget brush teeth comb hair later anxious aggressive wander away home eventually need total care cause great stress family member care ad usually begin age risk old risk high family member treatment stop drug help symptom bad limited time national institute age neurodegenerative cns result progressive loss memory intellectual function begin middle later year brain lesion neurofibrillary tangle neuritic plaque degenerative brain insidious onset dementia impairment memory judgment attention span problem solve skill follow severe apraxia global loss cognitive ability condition primarily occurs age marked pathologically severe cortical atrophy triad senile plaque neurofibrillary tangle neuropil thread   familial alzheimer   alzheimer  alzheimer s apolipoprotein e allele  degenerative brain insidious onset dementia impairment memory judgment attention span problem solve skill follow severe apraxia global loss cognitive ability condition primarily occurs age marked pathologically severe cortical atrophy triad senile plaque neurofibrillary tangle neuropil thread brain usually start late middle age old age bad time symptom loss memory confusion difficulty think change language behavior personality progressive neurodegenerative loss function death nerve cell area brain lead loss cognitive function memory language disable degenerative nervous occur middle age old person dementia failure memory recent event follow total incapacitation death alzheimer differentiate age onset genetic characteristic early onset form late onset form form identify ad ad ad clinical characteristic alzheimer similar pick alzheimer s common form dementia old people dementia brain seriously affect person s ability carry daily activity ad begin slowly involves brain control thought memory language people ad trouble remember thing happen recently people know related problem mild cognitive impairment cause memory problem normal people age people mci develop ad ad time symptom bad people recognize family member trouble speak reading write forget brush teeth comb hair later anxious aggressive wander away home eventually need total care cause great stress family member care ad usually begin age risk old risk high family member treatment stop drug help symptom bad limited time national institute age neurodegenerative cns result progressive loss memory intellectual function begin middle later year brain lesion neurofibrillary tangle neuritic plaque degenerative brain insidious onset dementia impairment memory judgment attention span problem solve skill follow severe apraxia global loss cognitive ability condition primarily occurs age marked pathologically severe cortical atrophy triad senile plaque neurofibrillary tangle neuropil thread   presenile senile dementia  degenerative brain insidious onset dementia impairment memory judgment attention span problem solve skill follow severe apraxia global loss cognitive ability condition primarily occurs age marked pathologically severe cortical atrophy triad senile plaque neurofibrillary tangle neuropil thread brain usually start late middle age old age bad time symptom loss memory confusion difficulty think change language behavior personality progressive neurodegenerative loss function death nerve cell area brain lead loss cognitive function memory language disable degenerative nervous occur middle age old person dementia failure memory recent event follow total incapacitation death alzheimer differentiate age onset genetic characteristic early onset form late onset form form identify ad ad ad clinical characteristic alzheimer similar pick alzheimer s common form dementia old people dementia brain seriously affect person s ability carry daily activity ad begin slowly involves brain control thought memory language people ad trouble remember thing happen recently people know related problem mild cognitive impairment cause memory problem normal people age people mci develop ad ad time symptom bad people recognize family member trouble speak reading write forget brush teeth comb hair later anxious aggressive wander away home eventually need total care cause great stress family member care ad usually begin age risk old risk high family member treatment stop drug help symptom bad limited time national institute age neurodegenerative cns result progressive loss memory intellectual function begin middle later year brain lesion neurofibrillary tangle neuritic plaque degenerative brain insidious onset dementia impairment memory judgment attention span problem solve skill follow severe apraxia global loss cognitive ability condition primarily occurs age marked pathologically severe cortical atrophy triad senile plaque neurofibrillary tangle neuropil thread   alzheimer  alzheimer s associate variation region 1q25  degenerative brain insidious onset dementia impairment memory judgment attention span problem solve skill follow severe apraxia global loss cognitive ability condition primarily occurs age marked pathologically severe cortical atrophy triad senile plaque neurofibrillary tangle neuropil thread brain usually start late middle age old age bad time symptom loss memory confusion difficulty think change language behavior personality progressive neurodegenerative loss function death nerve cell area brain lead loss cognitive function memory language disable degenerative nervous occur middle age old person dementia failure memory recent event follow total incapacitation death alzheimer differentiate age onset genetic characteristic early onset form late onset form form identify ad ad ad clinical characteristic alzheimer similar pick alzheimer s common form dementia old people dementia brain seriously affect person s ability carry daily activity ad begin slowly involves brain control thought memory language people ad trouble remember thing happen recently people know related problem mild cognitive impairment cause memory problem normal people age people mci develop ad ad time symptom bad people recognize family member trouble speak reading write forget brush teeth comb hair later anxious aggressive wander away home eventually need total care cause great stress family member care ad usually begin age risk old risk high family member treatment stop drug help symptom bad limited time national institute age neurodegenerative cns result progressive loss memory intellectual function begin middle later year brain lesion neurofibrillary tangle neuritic plaque degenerative brain insidious onset dementia impairment memory judgment attention span problem solve skill follow severe apraxia global loss cognitive ability condition primarily occurs age marked pathologically severe cortical atrophy triad senile plaque neurofibrillary tangle neuropil thread   alzheimer familial  degenerative brain insidious onset dementia impairment memory judgment attention span problem solve skill follow severe apraxia global loss cognitive ability condition primarily occurs age marked pathologically severe cortical atrophy triad senile plaque neurofibrillary tangle neuropil thread brain usually start late middle age old age bad time symptom loss memory confusion difficulty think change language behavior personality progressive neurodegenerative loss function death nerve cell area brain lead loss cognitive function memory language disable degenerative nervous occur middle age old person dementia failure memory recent event follow total incapacitation death alzheimer differentiate age onset genetic characteristic early onset form late onset form form identify ad ad ad clinical characteristic alzheimer similar pick alzheimer s common form dementia old people dementia brain seriously affect person s ability carry daily activity ad begin slowly involves brain control thought memory language people ad trouble remember thing happen recently people know related problem mild cognitive impairment cause memory problem normal people age people mci develop ad ad time symptom bad people recognize family member trouble speak reading write forget brush teeth comb hair later anxious aggressive wander away home eventually need total care cause great stress family member care ad usually begin age risk old risk high family member treatment stop drug help symptom bad limited time national institute age neurodegenerative cns result progressive loss memory intellectual function begin middle later year brain lesion neurofibrillary tangle neuritic plaque degenerative brain insidious onset dementia impairment memory judgment attention span problem solve skill follow severe apraxia global loss cognitive ability condition primarily occurs age marked pathologically severe cortical atrophy triad senile plaque neurofibrillary tangle neuropil thread   alzheimer  degenerative brain insidious onset dementia impairment memory judgment attention span problem solve skill follow severe apraxia global loss cognitive ability condition primarily occurs age marked pathologically severe cortical atrophy triad senile plaque neurofibrillary tangle neuropil thread brain usually start late middle age old age bad time symptom loss memory confusion difficulty think change language behavior personality progressive neurodegenerative loss function death nerve cell area brain lead loss cognitive function memory language disable degenerative nervous occur middle age old person dementia failure memory recent event follow total incapacitation death alzheimer differentiate age onset genetic characteristic early onset form late onset form form identify ad ad ad clinical characteristic alzheimer similar pick alzheimer s common form dementia old people dementia brain seriously affect person s ability carry daily activity ad begin slowly involves brain control thought memory language people ad trouble remember thing happen recently people know related problem mild cognitive impairment cause memory problem normal people age people mci develop ad ad time symptom bad people recognize family member trouble speak reading write forget brush teeth comb hair later anxious aggressive wander away home eventually need total care cause great stress family member care ad usually begin age risk old risk high family member treatment stop drug help symptom bad limited time national institute age neurodegenerative cns result progressive loss memory intellectual function begin middle later year brain lesion neurofibrillary tangle neuritic plaque degenerative brain insidious onset dementia impairment memory judgment attention span problem solve skill follow severe apraxia global loss cognitive ability condition primarily occurs age marked pathologically severe cortical atrophy triad senile plaque neurofibrillary tangle neuropil thread   alzheimer susceptibility mitochondrial   alzheimer  alzheimer s associate variation region 7q36  degenerative brain insidious onset dementia impairment memory judgment attention span problem solve skill follow severe apraxia global loss cognitive ability condition primarily occurs age marked pathologically severe cortical atrophy triad senile plaque neurofibrillary tangle neuropil thread brain usually start late middle age old age bad time symptom loss memory confusion difficulty think change language behavior personality progressive neurodegenerative loss function death nerve cell area brain lead loss cognitive function memory language disable degenerative nervous occur middle age old person dementia failure memory recent event follow total incapacitation death alzheimer differentiate age onset genetic characteristic early onset form late onset form form identify ad ad ad clinical characteristic alzheimer similar pick alzheimer s common form dementia old people dementia brain seriously affect person s ability carry daily activity ad begin slowly involves brain control thought memory language people ad trouble remember thing happen recently people know related problem mild cognitive impairment cause memory problem normal people age people mci develop ad ad time symptom bad people recognize family member trouble speak reading write forget brush teeth comb hair later anxious aggressive wander away home eventually need total care cause great stress family member care ad usually begin age risk old risk high family member treatment stop drug help symptom bad limited time national institute age neurodegenerative cns result progressive loss memory intellectual function begin middle later year brain lesion neurofibrillary tangle neuritic plaque degenerative brain insidious onset dementia impairment memory judgment attention span problem solve skill follow severe apraxia global loss cognitive ability condition primarily occurs age marked pathologically severe cortical atrophy triad senile plaque neurofibrillary tangle neuropil thread   alzheimer familial spastic paraparesis unusual plaque  alzheimer s early onset start age cause mutation psen1 gene  alzheimer s early onset cause mutation psen1 gene   alzheimer familial  alzheimer s early onset start age cause mutation psen1 gene  alzheimer s early onset cause mutation psen1 gene   alzheimer  alzheimer s early onset start age cause mutation psen2 gene  alzheimer s early onset cause mutation psen2 gene   alzheimer  alzheimer cause mutation pld3 gene   alzheimer familial spastic paraparesis apraxia  alzheimer s early onset start age cause mutation psen1 gene  alzheimer s early onset cause mutation psen1 gene   alzheimer late onset  alzheimer s associate variation region 10q24  degenerative brain insidious onset dementia impairment memory judgment attention span problem solve skill follow severe apraxia global loss cognitive ability condition primarily occurs age marked pathologically severe cortical atrophy triad senile plaque neurofibrillary tangle neuropil thread brain usually start late middle age old age bad time symptom loss memory confusion difficulty think change language behavior personality progressive neurodegenerative loss function death nerve cell area brain lead loss cognitive function memory language disable degenerative nervous occur middle age old person dementia failure memory recent event follow total incapacitation death alzheimer differentiate age onset genetic characteristic early onset form late onset form form identify ad ad ad clinical characteristic alzheimer similar pick alzheimer s common form dementia old people dementia brain seriously affect person s ability carry daily activity ad begin slowly involves brain control thought memory language people ad trouble remember thing happen recently people know related problem mild cognitive impairment cause memory problem normal people age people mci develop ad ad time symptom bad people recognize family member trouble speak reading write forget brush teeth comb hair later anxious aggressive wander away home eventually need total care cause great stress family member care ad usually begin age risk old risk high family member treatment stop drug help symptom bad limited time national institute age neurodegenerative cns result progressive loss memory intellectual function begin middle later year brain lesion neurofibrillary tangle neuritic plaque degenerative brain insidious onset dementia impairment memory judgment attention span problem solve skill follow severe apraxia global loss cognitive ability condition primarily occurs age marked pathologically severe cortical atrophy triad senile plaque neurofibrillary tangle neuropil thread   alzheimer  alzheimer s associate variation region 10p13  degenerative brain insidious onset dementia impairment memory judgment attention span problem solve skill follow severe apraxia global loss cognitive ability condition primarily occurs age marked pathologically severe cortical atrophy triad senile plaque neurofibrillary tangle neuropil thread brain usually start late middle age old age bad time symptom loss memory confusion difficulty think change language behavior personality progressive neurodegenerative loss function death nerve cell area brain lead loss cognitive function memory language disable degenerative nervous occur middle age old person dementia failure memory recent event follow total incapacitation death alzheimer differentiate age onset genetic characteristic early onset form late onset form form identify ad ad ad clinical characteristic alzheimer similar pick alzheimer s common form dementia old people dementia brain seriously affect person s ability carry daily activity ad begin slowly involves brain control thought memory language people ad trouble remember thing happen recently people know related problem mild cognitive impairment cause memory problem normal people age people mci develop ad ad time symptom bad people recognize family member trouble speak reading write forget brush teeth comb hair later anxious aggressive wander away home eventually need total care cause great stress family member care ad usually begin age risk old risk high family member treatment stop drug help symptom bad limited time national institute age neurodegenerative cns result progressive loss memory intellectual function begin middle later year brain lesion neurofibrillary tangle neuritic plaque degenerative brain insidious onset dementia impairment memory judgment attention span problem solve skill follow severe apraxia global loss cognitive ability condition primarily occurs age marked pathologically severe cortical atrophy triad senile plaque neurofibrillary tangle neuropil thread   familial alzheimer like prion  exceedingly rare form prion characteristic neuropathological feature alzheimer memory impairment depression related abnormal prion protein cause gene mutation prnp patient present prolong atypical course unlike form prion severe neurofibrillary tangle pathology high level cerebral amyloidosis  familial alzheimer like prion exceedingly rare form prion term neuropathological feature alzheimer memory impairment depression related abnormal prion protein prp cause gene mutation prnp patient present prolong atypical course absence myoclonus ataxia unlike form prion severe neurofibrillary tangle pathology high level cerebral amyloidosis \n",
      "Rank 2 (score: 3.54):  schizoaffective  individual suffers symptom qualify schizophrenia symptom qualify mood e g depression bipolar substantial portion active period illness remainder active period illness individual suffers delusion hallucination absence prominent mood symptom  condition change personality thought pattern accompany hallucination delusional belief individual suffers symptom qualify schizophrenia symptom qualify mood substantial portion active period illness remainder active period illness individual suffers delusion hallucination absence prominent mood symptom severe mental person loses ability recognize reality relate person able cope demand everyday life symptom paranoid false idea place hearing feel thing loss ego boundary gross impairment reality test delusion prominent hallucination psychosis psychosis loss contact reality thought change personality behavior associate delusion illusion hallucination psychosis occur systemic lupus erythematosus mixed connective tissue administration steroid cimetadine reserpine psychosis probably exists patient demonstrates follow major criterion major criterion loss contact reality evidence misinterpretation environment hostile friendly vice versa generally cause bizarre response normal usual environmental stimulus thought disturbance evidence incoherence marked illogical content marked loose patient s admission mental confusion abnormal rate mental activity personality behavior change rapid onset reversal previous behavior pattern observe reliable family member friend diagnosis strengthen presence follow minor criterion minor criterion delusion firmly held belief dissuade logical discussion generally threaten powerful grandiose nature illusion misperceptions environmental stimulus e g perceive person instead actual tree shadow hallucination perception environmental stimulus e g hearing voice noise face vision ref differential diagnosis psychotic feature diagnostic statistical manual mental ed washington d c american psychiatric rothfield n clinical feature systemic lupus erythematosus textbook rheumatology philadelphia w b saunders bennet rm spargo bh neuropsychiatric problem mixed connective tissue j med december pp dn19307 steinberg ad management systemic lupus erythematosus textbook rheumatology philadelphia w b saunders delusion hallucination disorganize speech grossly disorganize behavior resolve month differs schizophrenia specifically total duration schizophreniform typically cause impairment individual s social occupational function mental personality change impaired function loss touch reality mental state impaired reality perceptual disturbance abnormal belief disorganize think psychotic severe mental cause abnormal think perception people psychosis lose touch reality main symptom delusion hallucination delusion false belief think plot tv send secret message hallucination false perception hearing feel schizophrenia psychotic people bipolar psychotic symptom problem cause psychosis alcohol drug brain tumor brain infection stroke treatment depends cause psychosis involve drug control symptom talk therapy hospitalization option case person dangerous mental presence affective schizophrenia like symptom severest class psychological severe affective disturbance profound introspection withdrawal reality hallucination regression personality change impaired function loss touch reality manifestation schizophrenia bipolar brain tumor   schizophreniform  differs schizophrenia specifically total duration schizophreniform month month schizophrenia month schizophreniform typically cause impairment individual s social occupational function  condition change personality thought pattern accompany hallucination delusional belief individual suffers symptom qualify schizophrenia symptom qualify mood substantial portion active period illness remainder active period illness individual suffers delusion hallucination absence prominent mood symptom severe mental person loses ability recognize reality relate person able cope demand everyday life symptom paranoid false idea place hearing feel thing loss ego boundary gross impairment reality test delusion prominent hallucination psychosis psychosis loss contact reality thought change personality behavior associate delusion illusion hallucination psychosis occur systemic lupus erythematosus mixed connective tissue administration steroid cimetadine reserpine psychosis probably exists patient demonstrates follow major criterion major criterion loss contact reality evidence misinterpretation environment hostile friendly vice versa generally cause bizarre response normal usual environmental stimulus thought disturbance evidence incoherence marked illogical content marked loose patient s admission mental confusion abnormal rate mental activity personality behavior change rapid onset reversal previous behavior pattern observe reliable family member friend diagnosis strengthen presence follow minor criterion minor criterion delusion firmly held belief dissuade logical discussion generally threaten powerful grandiose nature illusion misperceptions environmental stimulus e g perceive person instead actual tree shadow hallucination perception environmental stimulus e g hearing voice noise face vision ref differential diagnosis psychotic feature diagnostic statistical manual mental ed washington d c american psychiatric rothfield n clinical feature systemic lupus erythematosus textbook rheumatology philadelphia w b saunders bennet rm spargo bh neuropsychiatric problem mixed connective tissue j med december pp dn19307 steinberg ad management systemic lupus erythematosus textbook rheumatology philadelphia w b saunders delusion hallucination disorganize speech grossly disorganize behavior resolve month differs schizophrenia specifically total duration schizophreniform typically cause impairment individual s social occupational function mental personality change impaired function loss touch reality mental state impaired reality perceptual disturbance abnormal belief disorganize think psychotic severe mental cause abnormal think perception people psychosis lose touch reality main symptom delusion hallucination delusion false belief think plot tv send secret message hallucination false perception hearing feel schizophrenia psychotic people bipolar psychotic symptom problem cause psychosis alcohol drug brain tumor brain infection stroke treatment depends cause psychosis involve drug control symptom talk therapy hospitalization option case person dangerous mental presence affective schizophrenia like symptom severest class psychological severe affective disturbance profound introspection withdrawal reality hallucination regression personality change impaired function loss touch reality manifestation schizophrenia bipolar brain tumor   psychotic  abnormal condition mind involves loss contact reality people experience psychosis exhibit personality change thought depend severity accompany unusual bizarre behavior difficulty social interaction impairment carry daily life activity  condition change personality thought pattern accompany hallucination delusional belief severe mental person loses ability recognize reality relate person able cope demand everyday life symptom paranoid false idea place hearing feel thing loss ego boundary gross impairment reality test delusion prominent hallucination psychosis psychosis loss contact reality thought change personality behavior associate delusion illusion hallucination psychosis occur systemic lupus erythematosus mixed connective tissue administration steroid cimetadine reserpine psychosis probably exists patient demonstrates follow major criterion major criterion loss contact reality evidence misinterpretation environment hostile friendly vice versa generally cause bizarre response normal usual environmental stimulus thought disturbance evidence incoherence marked illogical content marked loose patient s admission mental confusion abnormal rate mental activity personality behavior change rapid onset reversal previous behavior pattern observe reliable family member friend diagnosis strengthen presence follow minor criterion minor criterion delusion firmly held belief dissuade logical discussion generally threaten powerful grandiose nature illusion misperceptions environmental stimulus e g perceive person instead actual tree shadow hallucination perception environmental stimulus e g hearing voice noise face vision ref differential diagnosis psychotic feature diagnostic statistical manual mental ed washington d c american psychiatric rothfield n clinical feature systemic lupus erythematosus textbook rheumatology philadelphia w b saunders bennet rm spargo bh neuropsychiatric problem mixed connective tissue j med december pp dn19307 steinberg ad management systemic lupus erythematosus textbook rheumatology philadelphia w b saunders mental personality change impaired function loss touch reality mental state impaired reality perceptual disturbance abnormal belief disorganize think psychotic severe mental cause abnormal think perception people psychosis lose touch reality main symptom delusion hallucination delusion false belief think plot tv send secret message hallucination false perception hearing feel schizophrenia psychotic people bipolar psychotic symptom problem cause psychosis alcohol drug brain tumor brain infection stroke treatment depends cause psychosis involve drug control symptom talk therapy hospitalization option case person dangerous severest class psychological severe affective disturbance profound introspection withdrawal reality hallucination regression personality change impaired function loss touch reality manifestation schizophrenia bipolar brain tumor   cognition  affect cognitive process  disturbance mental process related think reason judgment category psychiatric deficit cognition memory characterise decline primarily intellectual function brain cause variety acquire condition cerebrovascular alzheimer s infection adverse drug reaction trauma diagnosis dementia amnestic subsume decrease mental function cause attributable psychiatric illness damage physical trauma anoxic injury damage chemical toxin infection cancer degenerative alzheimer s huntington s parkinson s creutzfeldt jakob decline primarily intellectual function brain cause variety acquire condition cerebrovascular alzheimer s infection adverse drug reaction trauma disturbance mental process related learn think reason judgment cognitive delirium dementia cognitive result substance use trauma cause   amnesia  systematic extensive loss memory cause organic psychological factor loss temporary permanent involve old recent memory  loss memory diminish inability recall past event systematic extensive loss impairment memory cause organic psychological factor temporary permanent involve old recent memory retrospective gap memory important personal information usually traumatic stressful nature memory loss far exceeds ordinary forgetfulness result substance use consequence medical condition interference disruption memory process memory dysfunction refers inability store retrieve information term encompasses large number problem issue associate intellectual function systematic extensive loss memory cause organic psychological factor loss temporary permanent involve old recent memory pathologic partial complete loss ability recall past experience form new memory condition organic psychologic origin organic form amnesia usually associate dysfunction diencephalon hippocampus deterioration memory function persistent inability remember recall bit information skill systematic extensive loss memory impairment memory manifest reduce ability remember thing date increase forgetfulness deterioration memory function partial complete loss memory cause organic psychological factor loss temporary permanent involve old recent memory compare forget memory decay   lewy body  progressive form dementia presence protein deposit lewy body midbrain cerebral cortex loss cholinergic dopaminergic neuron sign symptom overlap alzheimer parkinson  progressive form dementia presence protein deposit lewy body midbrain cerebral cortex loss cholinergic dopaminergic neuron sign symptom overlap alzheimer parkinson lewy body dementia lewy body dementia common dementia old adult dementia loss mental function severe affect daily life activity function memory language skill visual perception problem solve trouble everyday task ability focus pay attention lewy body dementia lbd dementia lewy body parkinson s dementia cause change brain time cause similar symptom main difference cognitive movement symptom start dementia lewy body cause problem think ability similar alzheimer s later cause symptom movement symptom visual hallucination certain sleep cause trouble mental activity memory parkinson s dementia start movement cause symptom parkinson s slow movement muscle stiffness tremor shuffle walk later cause dementia cause lewy body dementia lbd happens lewy body build brain control memory think movement lewy body abnormal deposit protein alpha synuclein researcher don t know exactly deposit form know parkinson s involve build protein risk lewy body dementia big risk factor lbd age people age people family history lbd high risk symptom lewy body dementia lbd progressive mean symptom start slowly bad time common symptom change cognition movement sleep behavior dementia loss mental function severe affect daily life activity change concentration attention alertness wakefulness change usually happen day day happen day visual hallucination mean thing problem movement posture slowness movement difficulty walk muscle stiffness parkinsonian motor symptom rem sleep behavior condition person act dream vivid dream talk s sleep violent movement fall bed early symptom lbd people appear year lbd symptom change behavior mood depression anxiety apathy early stage lbd symptom mild people function fairly normally bad people lbd need help problem think movement later stage care lewy body dementia diagnose isn t test diagnose lbd important experienced doctor diagnosis usually specialist neurologist doctor medical history detailed account symptom doctor talk patient caregiver physical neurological exam test rule condition cause similar symptom blood test brain image test neuropsychological test evaluate memory cognitive function lbd hard diagnose parkinson s alzheimer s cause similar symptom scientist think lewy body related happen s important know lbd person doctor treat s particular symptom help doctor understand affect person time doctor make diagnosis base certain symptom start cognitive symptom start year movement problem diagnosis dementia lewy body cognitive problem start year movement problem diagnosis parkinson s dementia treatment lewy body dementia cure lbd treatment help symptom medicine help cognitive movement psychiatric symptom physical therapy help movement problem occupational therapy help way easily everyday activity speech therapy help swallow difficulty trouble speak loudly clearly mental health counsel help people lbd family learn manage difficult emotion behavior help plan future music art therapy reduce anxiety improve support group helpful people lbd caregiver support group emotional social support place people share tip deal day day challenge national institute neurological stroke neurodegenerative marked presence lewy body cell cerebral cortex brain stem symptom dementia parkinsonianism strike fluctuation cognitive performance neurodegenerative dementia mild parkinsonism fluctuation attention alertness neuropsychiatric manifestation tend precede onset bradykinesia muscle rigidity extrapyramidal sign delusion visual hallucination relatively frequent condition histologic examination reveals lewy body cerebral cortex brain stem senile plaque pathologic feature characteristic alzheimer present   specify senile psychotic condition  loss intellectual ability interfere individual s social occupational function cause alzheimer s brain injury brain tumor vascular  loss global cognitive ability sufficient interfere normal social occupational function dementia represent loss previously present cognitive ability generally adult affect memory think language judgment behavior condition person loses ability think remember learn make decision solve problem symptom personality change emotional problem cause dementia alzheimer brain cancer brain injury dementia usually bad time acquire organic mental loss intellectual ability sufficient severity interfere social occupational function dysfunction multifaceted involves memory behavior personality judgment attention spatial relation language abstract thought executive function intellectual decline usually progressive initially spare level consciousness loss intellectual ability interfere individual s social occupational function cause alzheimer s brain injury brain tumor vascular loss intellectual ability interfere individual s social occupational function dementia dementia loss mental function severe affect daily life activity function memory language skill visual perception problem solve trouble everyday task ability focus pay attention normal bit forgetful age dementia normal age interferes daily life dementia common dementia know neurodegenerative cell brain stop work die alzheimer s common form dementia old people people alzheimer s plaque tangle brain abnormal buildup different protein beta amyloid protein clump form plaque brain cell tau protein build form tangle inside nerve cell brain loss connection nerve cell brain lewy body dementia cause movement symptom dementia lewy body abnormal deposit protein brain frontotemporal cause change certain brain change frontal lobe lead behavioral symptom change temporal lobe lead language emotional vascular dementia involves change brain s blood supply cause stroke atherosclerosis brain mixed dementia combination dementia example people alzheimer s vascular dementia condition cause dementia dementia like symptom creutzfeldt jakob rare brain huntington s inherit progressive brain chronic traumatic encephalopathy cause repeat traumatic brain injury hiv associate dementia risk dementia certain factor raise risk develop dementia age big risk factor dementia smoking uncontrolled diabetes high blood pressure drinking alcohol close family member dementia symptom dementia symptom dementia vary depend brain affected forgetfulness symptom dementia cause problem ability think problem solve reason example people dementia lose familiar neighborhood use unusual word refer familiar object forget close family member friend forget old memory need help task use people dementia control emotion personality change apathetic meaning longer interested normal daily activity event lose inhibition stop care people feeling certain dementia cause problem balance movement stage dementia range mild severe mild stage just begin affect person s function severe stage person completely dependent care dementia diagnose make diagnosis health care provider ask medical history physical exam check think memory language ability test blood test genetic test brain scan mental health evaluation mental contribute symptom treatment dementia cure dementia alzheimer s lewy body dementia treatment help maintain mental function longer manage behavioral symptom slow symptom medicine temporarily improve memory think slow decline work people medicine treat symptom anxiety depression sleep problem muscle stiffness medicine cause strong effect people dementia important talk health care provider medicine safe occupational therapy help way easily everyday activity speech therapy help swallow difficulty trouble speak loudly clearly mental health counsel help people dementia family learn manage difficult emotion behavior help plan future music art therapy reduce anxiety improve dementia prevent researcher proven way prevent dementia living healthy lifestyle influence risk factor dementia   dementia  loss intellectual ability interfere individual s social occupational function cause alzheimer s brain injury brain tumor vascular  loss global cognitive ability sufficient interfere normal social occupational function dementia represent loss previously present cognitive ability generally adult affect memory think language judgment behavior condition person loses ability think remember learn make decision solve problem symptom personality change emotional problem cause dementia alzheimer brain cancer brain injury dementia usually bad time acquire organic mental loss intellectual ability sufficient severity interfere social occupational function dysfunction multifaceted involves memory behavior personality judgment attention spatial relation language abstract thought executive function intellectual decline usually progressive initially spare level consciousness loss intellectual ability interfere individual s social occupational function cause alzheimer s brain injury brain tumor vascular loss intellectual ability interfere individual s social occupational function dementia dementia loss mental function severe affect daily life activity function memory language skill visual perception problem solve trouble everyday task ability focus pay attention normal bit forgetful age dementia normal age interferes daily life dementia common dementia know neurodegenerative cell brain stop work die alzheimer s common form dementia old people people alzheimer s plaque tangle brain abnormal buildup different protein beta amyloid protein clump form plaque brain cell tau protein build form tangle inside nerve cell brain loss connection nerve cell brain lewy body dementia cause movement symptom dementia lewy body abnormal deposit protein brain frontotemporal cause change certain brain change frontal lobe lead behavioral symptom change temporal lobe lead language emotional vascular dementia involves change brain s blood supply cause stroke atherosclerosis brain mixed dementia combination dementia example people alzheimer s vascular dementia condition cause dementia dementia like symptom creutzfeldt jakob rare brain huntington s inherit progressive brain chronic traumatic encephalopathy cause repeat traumatic brain injury hiv associate dementia risk dementia certain factor raise risk develop dementia age big risk factor dementia smoking uncontrolled diabetes high blood pressure drinking alcohol close family member dementia symptom dementia symptom dementia vary depend brain affected forgetfulness symptom dementia cause problem ability think problem solve reason example people dementia lose familiar neighborhood use unusual word refer familiar object forget close family member friend forget old memory need help task use people dementia control emotion personality change apathetic meaning longer interested normal daily activity event lose inhibition stop care people feeling certain dementia cause problem balance movement stage dementia range mild severe mild stage just begin affect person s function severe stage person completely dependent care dementia diagnose make diagnosis health care provider ask medical history physical exam check think memory language ability test blood test genetic test brain scan mental health evaluation mental contribute symptom treatment dementia cure dementia alzheimer s lewy body dementia treatment help maintain mental function longer manage behavioral symptom slow symptom medicine temporarily improve memory think slow decline work people medicine treat symptom anxiety depression sleep problem muscle stiffness medicine cause strong effect people dementia important talk health care provider medicine safe occupational therapy help way easily everyday activity speech therapy help swallow difficulty trouble speak loudly clearly mental health counsel help people dementia family learn manage difficult emotion behavior help plan future music art therapy reduce anxiety improve dementia prevent researcher proven way prevent dementia living healthy lifestyle influence risk factor dementia   psychosis substance induced  psychotic organic mental result toxic effect drug chemical harmful substance  psychotic state condition result ingestion toxic agent presence toxin body compare experimental psychosis psychotic organic mental result toxic effect drug chemical harmful substance   psychosis drug  psychotic organic mental result toxic effect drug chemical harmful substance  psychotic state condition result ingestion toxic agent presence toxin body compare experimental psychosis psychotic organic mental result toxic effect drug chemical harmful substance   aid dementia complex  neurologic condition associate acquire immunodeficiency impaired concentration memory slowness hand movement ataxia incontinence apathy gait difficulty associate hiv viral infection central nervous pathologic examination brain reveals white matter rarefaction perivascular infiltrates lymphocyte foamy macrophage multinucleated giant cell adam et al principle neurology ed pp760 n engl j med apr  neurological complication cognition motor performance behavior hiv infection neurologic condition associate acquire immunodeficiency impaired concentration memory slowness hand movement ataxia incontinence apathy gait difficulty associate hiv viral infection central nervous pathologic examination brain reveals white matter rarefaction perivascular infiltrates lymphocyte foamy macrophage multinucleated giant cell encephalopathy result aid dementia result aid   alexia  receptive visual aphasia loss previously possess ability comprehend meaning significance handwritten word despite intact vision condition associate posterior cerebral artery infarction infarction posterior cerebral artery brain  cognitive impaired ability comprehend write print word phrase despite intact vision condition developmental acquire developmental dyslexia marked reading achievement fall substantially expect individual s chronological age measure intelligence age appropriate education disturbance reading significantly interferes academic achievement activity daily living require reading skill inability read result neurological impairment severe form refer dyslexia acquire sensory aphasia damage brain lead loss ability read reading involve inability understand read severe alexia condition deficiency comprehension expression write form language learn primarily difficulty learn read spell dyslectic child exhibit tendency read word right left confuse letter b d orientation important identification child dyslexia appear impaired phonemic skill learn marked impairment ability recognize comprehend write word receptive visual aphasia loss previously possess ability comprehend meaning significance handwritten word despite intact vision condition associate posterior cerebral artery infarction brain inability difficulty reading spell write word despite ability recognize letter familial autosomal dominant inheritance occurs frequently male learn impairment processing write word reading difficulty distortion omission substitution character oral silent reading difficulty faulty slow comprehension   delusional  presence nonbizarre delusion persist month delusion s schizophrenia mood impair psychosocial function apart ramification delusion s  kind psychotic subtype schizophrenia prominent delusion hallucination context relative preservation cognitive function affect mental person extreme fear distrust paranoid person delusion people try harm schizophrenia grandiosity suspiciousness delusion persecution hallucination psychotic behavior accompany persecutory grandiose delusion sign personality thought disturbance irrational fear harm distrust persecutory delusion suppose hostility chronic mental insidious development permanent unshakeable delusional accompany preservation clear orderly think emotional response behavior consistent delusional state irrational fear harm distrust gradual development elaborate complex delusional usually involve persecutory grandiose delusion sign personality thought disturbance presentation facade coldness characteristic pervasive mistrust suspiciousness psychotic behavior accompany simultaneously persecutory grandiose delusion hallucination delusional jealousy present mild paranoia nonpsychotic person chronic form schizophrenia primarily presence persecutory grandiose delusion associate hallucination presence nonbizarre delusion persist month delusion schizophrenia mood impair psychosocial function apart ramification delusion   delirium  confusion inattentiveness disorientation illusion hallucination agitation instance autonomic nervous overactivity result toxic metabolic condition structural brain lesion adam et al principle neurology ed pp411  organic brain organic brain long term deterioration intellectual function memory short term disturbance orientation judgement consciousness marked illusion hallucination delusion disturbance perception mood behavior cognitive capacity personality delirium occur rheumatic fever cerebral vasculitis delirium dementia occur systemic lupus erythematosus rarely mixed connective tissue incorrect response follow question usually mean organic impairment exists day week opposite fast slow month opposite day month opposite large year opposite hard place orange banana repeat number fruit penny say backwards dime repeat number red blue listen number word ask count loud remember repeat need use listen number count minus loud repeat minus begin sunday say minus day week backwards minus minus add minus away minus repeat word remember ask later hat car tree ref organic brain diagnostic statistical manual mental ed washington d c american psychiatric west nd organic brain psychiatry primary care medicine chicago year book medical publisher sharp gc mixed connective tissue overlap textbook rheumatology philadelphia w b saunders bennet rm spargo bh neuropsychiatric problem mixed connective tissue j med december pp dn193071 jacob et al screen organic mental medically ill ann intern med january pp dn19308 broad group severe mental behavioral etiologically traceable brain injury toxicosis psychosis associate endocrine drug metabolic nutritional acute sudden development confusion illusion movement change inattentiveness agitation hallucination usually reversible condition usually reversible condition acute sudden development confusion illusion movement change inattentiveness agitation hallucination cause drug abuse poison infectious process fluid electrolyte imbalance mental state person confuse disorient able think remember clearly person agitate hallucination extreme excitement life threaten delirium seizure neuromuscular change mental state fluctuation orientation concentration ability think clearly state sudden severe confusion mental cause intrinsic acute chronic impairment intellectual function behavior mood judgment attributable medical etiology excludes primary psychiatric cause chronic course usually correlate poorer prognosis confusion inattentiveness disorientation illusion hallucination agitation instance autonomic nervous overactivity result toxic metabolic condition structural brain lesion condition acute reversible delirium delirium mental state confuse disorient able think remember clearly usually start suddenly temporary treatable delirium hypoactive active sleepy tire depressed hyperactive restless agitate mixed change forth hypoactive hyperactive cause delirium different problem cause delirium common cause alcohol drug intoxication withdrawal alcohol withdrawal delirium tremens usually happens people stop drinking year alcohol abuse dehydration electrolyte imbalance dementia hospitalization especially intensive care infection urinary tract infection pneumonia flu medicine effect medicine sedative opioids withdrawal stop medicine metabolic organ failure kidney liver failure poison illness severe pain sleep deprivation surgery reaction anesthesia risk delirium certain factor risk delirium hospital nursing home dementia illness illness infection old age surgery medicine affect mind behavior high dos pain medicine opioids symptom delirium symptom delirium usually start suddenly hour day come common symptom change alertness change level consciousness confusion disorganize think talk way doesn t make sense disrupt sleep pattern sleepiness emotional change anger agitation depression irritability overexcitement hallucination delusion incontinence memory problem especially short term memory trouble concentrate delirium diagnose make diagnosis health care provider medical history physical neurological exam mental status test lab test diagnostic image test delirium dementia similar symptom hard tell apart occur delirium start suddenly cause hallucination symptom bad hour week hand dementia develops slowly cause hallucination symptom stable month year treatment delirium treatment delirium focus cause symptom delirium step identify cause treat cause lead recovery recovery time week month meantime treatment manage symptom control environment make sure room quiet lit clock calendar view family member medicine control aggression agitation pain reliever pain need make sure person hearing aid glass device communication delirium prevent treat condition cause delirium reduce risk hospital help low risk delirium avoid sedative make sure room kept quiet calm lit help family member staff member treat person confusion inattentiveness disorientation illusion hallucination agitation instance autonomic nervous overactivity result toxic metabolic condition structural brain lesion   psychosis alcoholic  group mental associate organic brain damage cause poison alcohol  acute chronic mental gross impairment reality perception alcoholism evidence delusion hallucination markedly incoherent speech disorganize agitate behavior alcohol withdrawal seizure delirium alcohol amnestic alcoholic neuropathy alcohol induced paranoia group mental associate organic brain damage cause poison alcohol   drug alcohol induced mental   alcohol induced mental   neurocognitive  affect cognitive process  disturbance mental process related think reason judgment category psychiatric deficit cognition memory characterise decline primarily intellectual function brain cause variety acquire condition cerebrovascular alzheimer s infection adverse drug reaction trauma diagnosis dementia amnestic subsume decrease mental function cause attributable psychiatric illness damage physical trauma anoxic injury damage chemical toxin infection cancer degenerative alzheimer s huntington s parkinson s creutzfeldt jakob decline primarily intellectual function brain cause variety acquire condition cerebrovascular alzheimer s infection adverse drug reaction trauma disturbance mental process related learn think reason judgment cognitive delirium dementia cognitive result substance use trauma cause   delirium dementia amnestic cognitive  affect cognitive process  disturbance mental process related think reason judgment category psychiatric deficit cognition memory characterise decline primarily intellectual function brain cause variety acquire condition cerebrovascular alzheimer s infection adverse drug reaction trauma diagnosis dementia amnestic subsume decrease mental function cause attributable psychiatric illness damage physical trauma anoxic injury damage chemical toxin infection cancer degenerative alzheimer s huntington s parkinson s creutzfeldt jakob decline primarily intellectual function brain cause variety acquire condition cerebrovascular alzheimer s infection adverse drug reaction trauma disturbance mental process related learn think reason judgment cognitive delirium dementia cognitive result substance use trauma cause   unspecified reactive psychosis  abnormal condition mind involves loss contact reality people experience psychosis exhibit personality change thought depend severity accompany unusual bizarre behavior difficulty social interaction impairment carry daily life activity  condition change personality thought pattern accompany hallucination delusional belief severe mental person loses ability recognize reality relate person able cope demand everyday life symptom paranoid false idea place hearing feel thing loss ego boundary gross impairment reality test delusion prominent hallucination psychosis psychosis loss contact reality thought change personality behavior associate delusion illusion hallucination psychosis occur systemic lupus erythematosus mixed connective tissue administration steroid cimetadine reserpine psychosis probably exists patient demonstrates follow major criterion major criterion loss contact reality evidence misinterpretation environment hostile friendly vice versa generally cause bizarre response normal usual environmental stimulus thought disturbance evidence incoherence marked illogical content marked loose patient s admission mental confusion abnormal rate mental activity personality behavior change rapid onset reversal previous behavior pattern observe reliable family member friend diagnosis strengthen presence follow minor criterion minor criterion delusion firmly held belief dissuade logical discussion generally threaten powerful grandiose nature illusion misperceptions environmental stimulus e g perceive person instead actual tree shadow hallucination perception environmental stimulus e g hearing voice noise face vision ref differential diagnosis psychotic feature diagnostic statistical manual mental ed washington d c american psychiatric rothfield n clinical feature systemic lupus erythematosus textbook rheumatology philadelphia w b saunders bennet rm spargo bh neuropsychiatric problem mixed connective tissue j med december pp dn19307 steinberg ad management systemic lupus erythematosus textbook rheumatology philadelphia w b saunders mental personality change impaired function loss touch reality mental state impaired reality perceptual disturbance abnormal belief disorganize think psychotic severe mental cause abnormal think perception people psychosis lose touch reality main symptom delusion hallucination delusion false belief think plot tv send secret message hallucination false perception hearing feel schizophrenia psychotic people bipolar psychotic symptom problem cause psychosis alcohol drug brain tumor brain infection stroke treatment depends cause psychosis involve drug control symptom talk therapy hospitalization option case person dangerous severest class psychological severe affective disturbance profound introspection withdrawal reality hallucination regression personality change impaired function loss touch reality manifestation schizophrenia bipolar brain tumor   retrograde amnesia  loss access memory previously encode commonly precede trauma physical brain injury stroke seizure psychogenic origin memory loss temporary permanent ability encode new memory skill generally affected  diminish inability recall past event memory loss event experience occur incident produce amnesia loss ability recall information previously encode memory prior specify approximate point time process organic psychogenic origin organic form associate craniocerebral trauma cerebrovascular accident seizure dementia wide variety condition impair cerebral function deterioration memory function persistent inability remember recall bit information skill impairment memory manifest reduce ability remember thing date increase forgetfulness deterioration memory function loss access memory previously encode commonly precede trauma physical brain injury stroke seizure psychogenic origin memory loss temporary permanent ability encode new memory skill generally affected   amnesia transient global  condition sudden temporary usually short live memory loss associate neurologic affected individual lose memory function recent event decrease ability retain new information usually solitary event  condition sudden temporary usually short live memory loss associate neurologic affected individual lose memory function recent event decrease ability retain new information usually solitary event paroxysmal transient loss memory function preservation immediate recall remote memory severe impairment memory recent event ability retain new information transient loss ability form new memory primarily occurs middle age elderly individual episode minute hour period amnesia immediate recent memory ability impaired level consciousness ability perform intellectual task preserve condition related bilateral dysfunction medial portion temporal lobe complete recovery normally occurs recurrence unusual   amnestic  systematic extensive loss memory cause organic psychological factor loss temporary permanent involve old recent memory  loss memory diminish inability recall past event systematic extensive loss impairment memory cause organic psychological factor temporary permanent involve old recent memory retrospective gap memory important personal information usually traumatic stressful nature memory loss far exceeds ordinary forgetfulness result substance use consequence medical condition interference disruption memory process memory dysfunction refers inability store retrieve information term encompasses large number problem issue associate intellectual function systematic extensive loss memory cause organic psychological factor loss temporary permanent involve old recent memory pathologic partial complete loss ability recall past experience form new memory condition organic psychologic origin organic form amnesia usually associate dysfunction diencephalon hippocampus deterioration memory function persistent inability remember recall bit information skill systematic extensive loss memory impairment memory manifest reduce ability remember thing date increase forgetfulness deterioration memory function partial complete loss memory cause organic psychological factor loss temporary permanent involve old recent memory compare forget memory decay   lewy body variant alzheimer  progressive form dementia presence protein deposit lewy body midbrain cerebral cortex loss cholinergic dopaminergic neuron sign symptom overlap alzheimer parkinson  progressive form dementia presence protein deposit lewy body midbrain cerebral cortex loss cholinergic dopaminergic neuron sign symptom overlap alzheimer parkinson lewy body dementia lewy body dementia common dementia old adult dementia loss mental function severe affect daily life activity function memory language skill visual perception problem solve trouble everyday task ability focus pay attention lewy body dementia lbd dementia lewy body parkinson s dementia cause change brain time cause similar symptom main difference cognitive movement symptom start dementia lewy body cause problem think ability similar alzheimer s later cause symptom movement symptom visual hallucination certain sleep cause trouble mental activity memory parkinson s dementia start movement cause symptom parkinson s slow movement muscle stiffness tremor shuffle walk later cause dementia cause lewy body dementia lbd happens lewy body build brain control memory think movement lewy body abnormal deposit protein alpha synuclein researcher don t know exactly deposit form know parkinson s involve build protein risk lewy body dementia big risk factor lbd age people age people family history lbd high risk symptom lewy body dementia lbd progressive mean symptom start slowly bad time common symptom change cognition movement sleep behavior dementia loss mental function severe affect daily life activity change concentration attention alertness wakefulness change usually happen day day happen day visual hallucination mean thing problem movement posture slowness movement difficulty walk muscle stiffness parkinsonian motor symptom rem sleep behavior condition person act dream vivid dream talk s sleep violent movement fall bed early symptom lbd people appear year lbd symptom change behavior mood depression anxiety apathy early stage lbd symptom mild people function fairly normally bad people lbd need help problem think movement later stage care lewy body dementia diagnose isn t test diagnose lbd important experienced doctor diagnosis usually specialist neurologist doctor medical history detailed account symptom doctor talk patient caregiver physical neurological exam test rule condition cause similar symptom blood test brain image test neuropsychological test evaluate memory cognitive function lbd hard diagnose parkinson s alzheimer s cause similar symptom scientist think lewy body related happen s important know lbd person doctor treat s particular symptom help doctor understand affect person time doctor make diagnosis base certain symptom start cognitive symptom start year movement problem diagnosis dementia lewy body cognitive problem start year movement problem diagnosis parkinson s dementia treatment lewy body dementia cure lbd treatment help symptom medicine help cognitive movement psychiatric symptom physical therapy help movement problem occupational therapy help way easily everyday activity speech therapy help swallow difficulty trouble speak loudly clearly mental health counsel help people lbd family learn manage difficult emotion behavior help plan future music art therapy reduce anxiety improve support group helpful people lbd caregiver support group emotional social support place people share tip deal day day challenge national institute neurological stroke neurodegenerative marked presence lewy body cell cerebral cortex brain stem symptom dementia parkinsonianism strike fluctuation cognitive performance neurodegenerative dementia mild parkinsonism fluctuation attention alertness neuropsychiatric manifestation tend precede onset bradykinesia muscle rigidity extrapyramidal sign delusion visual hallucination relatively frequent condition histologic examination reveals lewy body cerebral cortex brain stem senile plaque pathologic feature characteristic alzheimer present \n"
     ]
    }
   ],
   "source": [
    "# Query the corpus\n",
    "query = \"Show me diseases that affect memory\"\n",
    "query_tokens = bm25s.tokenize(query,stopwords=\"en\")\n",
    "\n",
    "# Get top-k results as a tuple of (doc ids, scores). Both are arrays of shape (n_queries, k)\n",
    "results, scores = retriever.retrieve(query_tokens, corpus=corpus, k=2)\n",
    "\n",
    "for i in range(results.shape[1]):\n",
    "    doc, score = results[0, i], scores[0, i]\n",
    "    print(f\"Rank {i+1} (score: {score:.2f}): {doc}\")"
   ]
  },
  {
   "cell_type": "markdown",
   "metadata": {},
   "source": [
    "If we only want the indices of the documents we can omit the \"corpus\" argument"
   ]
  },
  {
   "cell_type": "code",
   "execution_count": 59,
   "metadata": {},
   "outputs": [
    {
     "data": {
      "application/vnd.jupyter.widget-view+json": {
       "model_id": "054307da863a4ec6931740e26b5b767d",
       "version_major": 2,
       "version_minor": 0
      },
      "text/plain": [
       "Split strings:   0%|          | 0/1 [00:00<?, ?it/s]"
      ]
     },
     "metadata": {},
     "output_type": "display_data"
    },
    {
     "data": {
      "application/vnd.jupyter.widget-view+json": {
       "model_id": "142e1258079e460abb189ac8d39c7551",
       "version_major": 2,
       "version_minor": 0
      },
      "text/plain": [
       "BM25S Retrieve:   0%|          | 0/1 [00:00<?, ?it/s]"
      ]
     },
     "metadata": {},
     "output_type": "display_data"
    },
    {
     "name": "stdout",
     "output_type": "stream",
     "text": [
      "Rank 1 (score: 3.67): 392\n",
      "Rank 2 (score: 3.54): 1\n"
     ]
    }
   ],
   "source": [
    "# Get top-k results as a tuple of (doc ids, scores). Both are arrays of shape (n_queries, k)\n",
    "query = \"Show me diseases that affect memory\"\n",
    "query_tokens = bm25s.tokenize(query,stopwords=\"en\")\n",
    "results, scores = retriever.retrieve(query_tokens, k=2)\n",
    "\n",
    "for i in range(results.shape[1]):\n",
    "    doc, score = results[0, i], scores[0, i]\n",
    "    print(f\"Rank {i+1} (score: {score:.2f}): {doc}\")"
   ]
  },
  {
   "cell_type": "code",
   "execution_count": 60,
   "metadata": {},
   "outputs": [],
   "source": [
    "best_match = results[0][0]"
   ]
  },
  {
   "cell_type": "code",
   "execution_count": 63,
   "metadata": {},
   "outputs": [
    {
     "name": "stdout",
     "output_type": "stream",
     "text": [
      "Early-onset autosomal dominant Alzheimer disease (EOAD) is a progressive dementia with reduction of cognitive functions. EOAD presents the same phenotype as sporadic Alzheimer disease (AD) but has an early age of onset, usually before 60 years old. An acute and potentially fatal metabolic condition characterized by cerebral edema, fatty liver, and hypoglycemia. It occurs primarily in children, and has been associated with the use of aspirin for the treatment of viral infections. However, it can also occur in the absence of aspirin use. A disabling degenerative disease of the nervous system occurring in middle-aged or older persons and characterized by dementia and failure of memory for recent events, followed by total incapacitation and death. Types of the Alzheimer syndrome are differentiated by the age of onset and genetic characteristics. The early onset form and the late onset form Three forms are identified: ad-1, ad-2, ad-3. Some of the clinical characteristics of the Alzheimer syndrome are similar to those of the Pick syndrome. Alzheimer's disease is the most common form of dementia among older people. Dementia is a brain disorder that seriously affects a person's ability to carry out daily activities. AD begins slowly. It first involves the parts of the brain that control thought, memory and language. People with ad may have trouble remembering things that happened recently or names of people they know. A related problem, mild cognitive impairment , causes more memory problems than normal for people of the same age. Many, but not all, people with mci will develop AD. In ad, over time, symptoms get worse. People may not recognize family members. They may have trouble speaking, reading or writing. They may forget how to brush their teeth or comb their hair. Later on, they may become anxious or aggressive, or wander away from home. Eventually, they need total care. This can cause great stress for family members who must care for them. AD usually begins after age 60. The risk goes up as you get older. Your risk is also higher if a family member has had the disease. No treatment can stop the disease. However, some drugs may help keep symptoms from getting worse for a limited time. NIH: National Institute on Aging A rare form of dementia that is sometimes familial. Clinical features include aphasia; apraxia; confusion; anomia; memory loss; and personality deterioration. This pattern is consistent with the pathologic findings of circumscribed atrophy of the poles of the frontal lobe and temporal lobe. Neuronal loss is maximal in the hippocampus, entorhinal cortex, and amygdala. Some ballooned cortical neurons contain argentophylic bodies. :339-54; Adams et al., Principles of Neurology, 6th ed, pp1057-9) A rare disease that damages the brain and liver and causes death if not treated. It occurs most often in children younger than 15 years who have had a fever-causing virus, such as chickenpox or flu. Taking aspirin during a viral illness may increase the risk of Reye syndrome. Reye syndrome is a rare illness that can affect the blood, liver, and brain of someone who has recently had a viral infection. It always follows another illness. Although it mostly affects children and teens, anyone can get it. It can develop quickly and without warning. It is most common during flu season. Symptoms include Nausea and vomiting Listlessness Personality change - such as irritability, combativeness or confusion Delirium Convulsions Loss of consciousness If these symptoms occur soon after a viral illness, seek medical attention immediately. Reye syndrome can lead to a coma and brain death, so quick diagnosis and treatment are critical. Treatment focuses on preventing brain damage. There is no cure. The cause of Reye syndrome is unknown. Studies have shown that taking aspirin increases the risk of getting it. Because of that, health care professionals now recommend other pain relievers for young patients. NIH: National Institute of Neurological Disorders and Stroke rare, acute, sometimes fatal disease of childhood, most often occurring as a sequel of varicella or a viral upper respiratory infection of childhood; marked by recurrent vomiting and elevated serum transaminase levels with distinctive changes in the liver and other viscera; an encephalopathic phase with acute brain swelling disturbances of consciousness and seizures may follow. A degenerative disease of the brain characterized by the insidious onset of dementia. Impairment of memory, judgment, attention span, and problem solving skills are followed by severe apraxias and a global loss of cognitive abilities. The condition primarily occurs after age 60, and is marked pathologically by severe cortical atrophy and the triad of senile plaques; neurofibrillary tangles; and neuropil threads.  The presence of dementia in an individual younger than age sixty five. A rare neurodegenerative disorder leading to dementia. It is characterized by frontotemporal lobar degeneration with accumulation of tau proteins which form Pick bodies. A degenerative disease of the brain characterized by the insidious onset of dementia. Impairment of memory, judgment, attention span, and problem solving skills are followed by severe apraxia and a global loss of cognitive abilities. The condition primarily occurs after age 60, and is marked pathologically by severe cortical atrophy and the triad of senile plaques, neurofibrillary tangles, and neuropil threads.  Loss of intellectual abilities in an elderly person, interfering with this person's activities. neurodegenerative disorder of the cns resulting in progressive loss of memory and intellectual functions; begins in the middle or later years; characterized by brain lesions such as neurofibrillary tangles and neuritic plaques. result of genetic metabolic defects or damage by exogenous or endogenous toxins; characterized by cerebral cortex atrophy and progressive cerebral demyelination; dementia and mental deterioration are common. An acute and potentially fatal metabolic disorder characterized by cerebral edema, fatty liver and hypoglycemia. It occurs primarily in children and has been associated with the use of aspirin for the treatment of viral infections. However, it can also occur in the absence of aspirin use. A brain disorder that usually starts in late middle age or old age and gets worse over time. Symptoms include loss of memory, confusion, difficulty thinking, and changes in language, behavior, and personality. A progressive, neurodegenerative disease characterized by loss of function and death of nerve cells in several areas of the brain leading to loss of cognitive function such as memory and language. loss of intellectual functions such as memory, learning, reasoning, problem solving, and abstract thinking while vegetative functions remain intact. A form of encephalopathy with fatty infiltration of the liver, characterized by brain edema and vomiting that may rapidly progress to seizures; coma; and death. It is caused by a generalized loss of mitochondrial function leading to disturbances in fatty acid and carnitine metabolism. Any Alzheimer disease in which the cause of the disease is a mutation in the ADAM10 gene. Alzheimer Disease 9 ALZHEIMER DISEASE 9, SUSCEPTIBILITY TO A degenerative disease of the brain characterized by the insidious onset of dementia. Impairment of memory, judgment, attention span, and problem solving skills are followed by severe apraxia and a global loss of cognitive abilities. The condition primarily occurs after age 60, and is marked pathologically by severe cortical atrophy and the triad of senile plaques, neurofibrillary tangles, and neuropil threads.  A brain disorder that usually starts in late middle age or old age and gets worse over time. Symptoms include loss of memory, confusion, difficulty thinking, and changes in language, behavior, and personality. A progressive, neurodegenerative disease characterized by loss of function and death of nerve cells in several areas of the brain leading to loss of cognitive function such as memory and language. A disabling degenerative disease of the nervous system occurring in middle-aged or older persons and characterized by dementia and failure of memory for recent events, followed by total incapacitation and death. Types of the Alzheimer syndrome are differentiated by the age of onset and genetic characteristics. The early onset form and the late onset form Three forms are identified: ad-1, ad-2, ad-3. Some of the clinical characteristics of the Alzheimer syndrome are similar to those of the Pick syndrome. Alzheimer's disease is the most common form of dementia among older people. Dementia is a brain disorder that seriously affects a person's ability to carry out daily activities. AD begins slowly. It first involves the parts of the brain that control thought, memory and language. People with ad may have trouble remembering things that happened recently or names of people they know. A related problem, mild cognitive impairment , causes more memory problems than normal for people of the same age. Many, but not all, people with mci will develop AD. In ad, over time, symptoms get worse. People may not recognize family members. They may have trouble speaking, reading or writing. They may forget how to brush their teeth or comb their hair. Later on, they may become anxious or aggressive, or wander away from home. Eventually, they need total care. This can cause great stress for family members who must care for them. AD usually begins after age 60. The risk goes up as you get older. Your risk is also higher if a family member has had the disease. No treatment can stop the disease. However, some drugs may help keep symptoms from getting worse for a limited time. NIH: National Institute on Aging neurodegenerative disorder of the cns resulting in progressive loss of memory and intellectual functions; begins in the middle or later years; characterized by brain lesions such as neurofibrillary tangles and neuritic plaques. A degenerative disease of the brain characterized by the insidious onset of dementia. Impairment of memory, judgment, attention span, and problem solving skills are followed by severe apraxias and a global loss of cognitive abilities. The condition primarily occurs after age 60, and is marked pathologically by severe cortical atrophy and the triad of senile plaques; neurofibrillary tangles; and neuropil threads.  A degenerative disease of the brain characterized by the insidious onset of dementia. Impairment of memory, judgment, attention span, and problem solving skills are followed by severe apraxia and a global loss of cognitive abilities. The condition primarily occurs after age 60, and is marked pathologically by severe cortical atrophy and the triad of senile plaques, neurofibrillary tangles, and neuropil threads.  A brain disorder that usually starts in late middle age or old age and gets worse over time. Symptoms include loss of memory, confusion, difficulty thinking, and changes in language, behavior, and personality. A progressive, neurodegenerative disease characterized by loss of function and death of nerve cells in several areas of the brain leading to loss of cognitive function such as memory and language. A disabling degenerative disease of the nervous system occurring in middle-aged or older persons and characterized by dementia and failure of memory for recent events, followed by total incapacitation and death. Types of the Alzheimer syndrome are differentiated by the age of onset and genetic characteristics. The early onset form and the late onset form Three forms are identified: ad-1, ad-2, ad-3. Some of the clinical characteristics of the Alzheimer syndrome are similar to those of the Pick syndrome. Alzheimer's disease is the most common form of dementia among older people. Dementia is a brain disorder that seriously affects a person's ability to carry out daily activities. AD begins slowly. It first involves the parts of the brain that control thought, memory and language. People with ad may have trouble remembering things that happened recently or names of people they know. A related problem, mild cognitive impairment , causes more memory problems than normal for people of the same age. Many, but not all, people with mci will develop AD. In ad, over time, symptoms get worse. People may not recognize family members. They may have trouble speaking, reading or writing. They may forget how to brush their teeth or comb their hair. Later on, they may become anxious or aggressive, or wander away from home. Eventually, they need total care. This can cause great stress for family members who must care for them. AD usually begins after age 60. The risk goes up as you get older. Your risk is also higher if a family member has had the disease. No treatment can stop the disease. However, some drugs may help keep symptoms from getting worse for a limited time. NIH: National Institute on Aging neurodegenerative disorder of the cns resulting in progressive loss of memory and intellectual functions; begins in the middle or later years; characterized by brain lesions such as neurofibrillary tangles and neuritic plaques. A degenerative disease of the brain characterized by the insidious onset of dementia. Impairment of memory, judgment, attention span, and problem solving skills are followed by severe apraxias and a global loss of cognitive abilities. The condition primarily occurs after age 60, and is marked pathologically by severe cortical atrophy and the triad of senile plaques; neurofibrillary tangles; and neuropil threads.  A degenerative disease of the brain characterized by the insidious onset of dementia. Impairment of memory, judgment, attention span, and problem solving skills are followed by severe apraxia and a global loss of cognitive abilities. The condition primarily occurs after age 60, and is marked pathologically by severe cortical atrophy and the triad of senile plaques, neurofibrillary tangles, and neuropil threads.  A brain disorder that usually starts in late middle age or old age and gets worse over time. Symptoms include loss of memory, confusion, difficulty thinking, and changes in language, behavior, and personality. A progressive, neurodegenerative disease characterized by loss of function and death of nerve cells in several areas of the brain leading to loss of cognitive function such as memory and language. A disabling degenerative disease of the nervous system occurring in middle-aged or older persons and characterized by dementia and failure of memory for recent events, followed by total incapacitation and death. Types of the Alzheimer syndrome are differentiated by the age of onset and genetic characteristics. The early onset form and the late onset form Three forms are identified: ad-1, ad-2, ad-3. Some of the clinical characteristics of the Alzheimer syndrome are similar to those of the Pick syndrome. Alzheimer's disease is the most common form of dementia among older people. Dementia is a brain disorder that seriously affects a person's ability to carry out daily activities. AD begins slowly. It first involves the parts of the brain that control thought, memory and language. People with ad may have trouble remembering things that happened recently or names of people they know. A related problem, mild cognitive impairment , causes more memory problems than normal for people of the same age. Many, but not all, people with mci will develop AD. In ad, over time, symptoms get worse. People may not recognize family members. They may have trouble speaking, reading or writing. They may forget how to brush their teeth or comb their hair. Later on, they may become anxious or aggressive, or wander away from home. Eventually, they need total care. This can cause great stress for family members who must care for them. AD usually begins after age 60. The risk goes up as you get older. Your risk is also higher if a family member has had the disease. No treatment can stop the disease. However, some drugs may help keep symptoms from getting worse for a limited time. NIH: National Institute on Aging neurodegenerative disorder of the cns resulting in progressive loss of memory and intellectual functions; begins in the middle or later years; characterized by brain lesions such as neurofibrillary tangles and neuritic plaques. A degenerative disease of the brain characterized by the insidious onset of dementia. Impairment of memory, judgment, attention span, and problem solving skills are followed by severe apraxias and a global loss of cognitive abilities. The condition primarily occurs after age 60, and is marked pathologically by severe cortical atrophy and the triad of senile plaques; neurofibrillary tangles; and neuropil threads.  A degenerative disease of the brain characterized by the insidious onset of dementia. Impairment of memory, judgment, attention span, and problem solving skills are followed by severe apraxia and a global loss of cognitive abilities. The condition primarily occurs after age 60, and is marked pathologically by severe cortical atrophy and the triad of senile plaques, neurofibrillary tangles, and neuropil threads.  A brain disorder that usually starts in late middle age or old age and gets worse over time. Symptoms include loss of memory, confusion, difficulty thinking, and changes in language, behavior, and personality. A progressive, neurodegenerative disease characterized by loss of function and death of nerve cells in several areas of the brain leading to loss of cognitive function such as memory and language. A disabling degenerative disease of the nervous system occurring in middle-aged or older persons and characterized by dementia and failure of memory for recent events, followed by total incapacitation and death. Types of the Alzheimer syndrome are differentiated by the age of onset and genetic characteristics. The early onset form and the late onset form Three forms are identified: ad-1, ad-2, ad-3. Some of the clinical characteristics of the Alzheimer syndrome are similar to those of the Pick syndrome. Alzheimer's disease is the most common form of dementia among older people. Dementia is a brain disorder that seriously affects a person's ability to carry out daily activities. AD begins slowly. It first involves the parts of the brain that control thought, memory and language. People with ad may have trouble remembering things that happened recently or names of people they know. A related problem, mild cognitive impairment , causes more memory problems than normal for people of the same age. Many, but not all, people with mci will develop AD. In ad, over time, symptoms get worse. People may not recognize family members. They may have trouble speaking, reading or writing. They may forget how to brush their teeth or comb their hair. Later on, they may become anxious or aggressive, or wander away from home. Eventually, they need total care. This can cause great stress for family members who must care for them. AD usually begins after age 60. The risk goes up as you get older. Your risk is also higher if a family member has had the disease. No treatment can stop the disease. However, some drugs may help keep symptoms from getting worse for a limited time. NIH: National Institute on Aging neurodegenerative disorder of the cns resulting in progressive loss of memory and intellectual functions; begins in the middle or later years; characterized by brain lesions such as neurofibrillary tangles and neuritic plaques. A degenerative disease of the brain characterized by the insidious onset of dementia. Impairment of memory, judgment, attention span, and problem solving skills are followed by severe apraxias and a global loss of cognitive abilities. The condition primarily occurs after age 60, and is marked pathologically by severe cortical atrophy and the triad of senile plaques; neurofibrillary tangles; and neuropil threads.  A degenerative disease of the brain characterized by the insidious onset of dementia. Impairment of memory, judgment, attention span, and problem solving skills are followed by severe apraxia and a global loss of cognitive abilities. The condition primarily occurs after age 60, and is marked pathologically by severe cortical atrophy and the triad of senile plaques, neurofibrillary tangles, and neuropil threads.  A brain disorder that usually starts in late middle age or old age and gets worse over time. Symptoms include loss of memory, confusion, difficulty thinking, and changes in language, behavior, and personality. A progressive, neurodegenerative disease characterized by loss of function and death of nerve cells in several areas of the brain leading to loss of cognitive function such as memory and language. A disabling degenerative disease of the nervous system occurring in middle-aged or older persons and characterized by dementia and failure of memory for recent events, followed by total incapacitation and death. Types of the Alzheimer syndrome are differentiated by the age of onset and genetic characteristics. The early onset form and the late onset form Three forms are identified: ad-1, ad-2, ad-3. Some of the clinical characteristics of the Alzheimer syndrome are similar to those of the Pick syndrome. Alzheimer's disease is the most common form of dementia among older people. Dementia is a brain disorder that seriously affects a person's ability to carry out daily activities. AD begins slowly. It first involves the parts of the brain that control thought, memory and language. People with ad may have trouble remembering things that happened recently or names of people they know. A related problem, mild cognitive impairment , causes more memory problems than normal for people of the same age. Many, but not all, people with mci will develop AD. In ad, over time, symptoms get worse. People may not recognize family members. They may have trouble speaking, reading or writing. They may forget how to brush their teeth or comb their hair. Later on, they may become anxious or aggressive, or wander away from home. Eventually, they need total care. This can cause great stress for family members who must care for them. AD usually begins after age 60. The risk goes up as you get older. Your risk is also higher if a family member has had the disease. No treatment can stop the disease. However, some drugs may help keep symptoms from getting worse for a limited time. NIH: National Institute on Aging neurodegenerative disorder of the cns resulting in progressive loss of memory and intellectual functions; begins in the middle or later years; characterized by brain lesions such as neurofibrillary tangles and neuritic plaques. A degenerative disease of the brain characterized by the insidious onset of dementia. Impairment of memory, judgment, attention span, and problem solving skills are followed by severe apraxias and a global loss of cognitive abilities. The condition primarily occurs after age 60, and is marked pathologically by severe cortical atrophy and the triad of senile plaques; neurofibrillary tangles; and neuropil threads.  A degenerative disease of the brain characterized by the insidious onset of dementia. Impairment of memory, judgment, attention span, and problem solving skills are followed by severe apraxia and a global loss of cognitive abilities. The condition primarily occurs after age 60, and is marked pathologically by severe cortical atrophy and the triad of senile plaques, neurofibrillary tangles, and neuropil threads.  A brain disorder that usually starts in late middle age or old age and gets worse over time. Symptoms include loss of memory, confusion, difficulty thinking, and changes in language, behavior, and personality. A progressive, neurodegenerative disease characterized by loss of function and death of nerve cells in several areas of the brain leading to loss of cognitive function such as memory and language. A disabling degenerative disease of the nervous system occurring in middle-aged or older persons and characterized by dementia and failure of memory for recent events, followed by total incapacitation and death. Types of the Alzheimer syndrome are differentiated by the age of onset and genetic characteristics. The early onset form and the late onset form Three forms are identified: ad-1, ad-2, ad-3. Some of the clinical characteristics of the Alzheimer syndrome are similar to those of the Pick syndrome. Alzheimer's disease is the most common form of dementia among older people. Dementia is a brain disorder that seriously affects a person's ability to carry out daily activities. AD begins slowly. It first involves the parts of the brain that control thought, memory and language. People with ad may have trouble remembering things that happened recently or names of people they know. A related problem, mild cognitive impairment , causes more memory problems than normal for people of the same age. Many, but not all, people with mci will develop AD. In ad, over time, symptoms get worse. People may not recognize family members. They may have trouble speaking, reading or writing. They may forget how to brush their teeth or comb their hair. Later on, they may become anxious or aggressive, or wander away from home. Eventually, they need total care. This can cause great stress for family members who must care for them. AD usually begins after age 60. The risk goes up as you get older. Your risk is also higher if a family member has had the disease. No treatment can stop the disease. However, some drugs may help keep symptoms from getting worse for a limited time. NIH: National Institute on Aging neurodegenerative disorder of the cns resulting in progressive loss of memory and intellectual functions; begins in the middle or later years; characterized by brain lesions such as neurofibrillary tangles and neuritic plaques. A degenerative disease of the brain characterized by the insidious onset of dementia. Impairment of memory, judgment, attention span, and problem solving skills are followed by severe apraxias and a global loss of cognitive abilities. The condition primarily occurs after age 60, and is marked pathologically by severe cortical atrophy and the triad of senile plaques; neurofibrillary tangles; and neuropil threads.  A degenerative disease of the brain characterized by the insidious onset of dementia. Impairment of memory, judgment, attention span, and problem solving skills are followed by severe apraxia and a global loss of cognitive abilities. The condition primarily occurs after age 60, and is marked pathologically by severe cortical atrophy and the triad of senile plaques, neurofibrillary tangles, and neuropil threads.  A brain disorder that usually starts in late middle age or old age and gets worse over time. Symptoms include loss of memory, confusion, difficulty thinking, and changes in language, behavior, and personality. A progressive, neurodegenerative disease characterized by loss of function and death of nerve cells in several areas of the brain leading to loss of cognitive function such as memory and language. A disabling degenerative disease of the nervous system occurring in middle-aged or older persons and characterized by dementia and failure of memory for recent events, followed by total incapacitation and death. Types of the Alzheimer syndrome are differentiated by the age of onset and genetic characteristics. The early onset form and the late onset form Three forms are identified: ad-1, ad-2, ad-3. Some of the clinical characteristics of the Alzheimer syndrome are similar to those of the Pick syndrome. Alzheimer's disease is the most common form of dementia among older people. Dementia is a brain disorder that seriously affects a person's ability to carry out daily activities. AD begins slowly. It first involves the parts of the brain that control thought, memory and language. People with ad may have trouble remembering things that happened recently or names of people they know. A related problem, mild cognitive impairment , causes more memory problems than normal for people of the same age. Many, but not all, people with mci will develop AD. In ad, over time, symptoms get worse. People may not recognize family members. They may have trouble speaking, reading or writing. They may forget how to brush their teeth or comb their hair. Later on, they may become anxious or aggressive, or wander away from home. Eventually, they need total care. This can cause great stress for family members who must care for them. AD usually begins after age 60. The risk goes up as you get older. Your risk is also higher if a family member has had the disease. No treatment can stop the disease. However, some drugs may help keep symptoms from getting worse for a limited time. NIH: National Institute on Aging neurodegenerative disorder of the cns resulting in progressive loss of memory and intellectual functions; begins in the middle or later years; characterized by brain lesions such as neurofibrillary tangles and neuritic plaques. A degenerative disease of the brain characterized by the insidious onset of dementia. Impairment of memory, judgment, attention span, and problem solving skills are followed by severe apraxias and a global loss of cognitive abilities. The condition primarily occurs after age 60, and is marked pathologically by severe cortical atrophy and the triad of senile plaques; neurofibrillary tangles; and neuropil threads.  ALZHEIMER DISEASE, SUSCEPTIBILITY TO, MITOCHONDRIAL A degenerative disease of the brain characterized by the insidious onset of dementia. Impairment of memory, judgment, attention span, and problem solving skills are followed by severe apraxia and a global loss of cognitive abilities. The condition primarily occurs after age 60, and is marked pathologically by severe cortical atrophy and the triad of senile plaques, neurofibrillary tangles, and neuropil threads.  A brain disorder that usually starts in late middle age or old age and gets worse over time. Symptoms include loss of memory, confusion, difficulty thinking, and changes in language, behavior, and personality. A progressive, neurodegenerative disease characterized by loss of function and death of nerve cells in several areas of the brain leading to loss of cognitive function such as memory and language. A disabling degenerative disease of the nervous system occurring in middle-aged or older persons and characterized by dementia and failure of memory for recent events, followed by total incapacitation and death. Types of the Alzheimer syndrome are differentiated by the age of onset and genetic characteristics. The early onset form and the late onset form Three forms are identified: ad-1, ad-2, ad-3. Some of the clinical characteristics of the Alzheimer syndrome are similar to those of the Pick syndrome. Alzheimer's disease is the most common form of dementia among older people. Dementia is a brain disorder that seriously affects a person's ability to carry out daily activities. AD begins slowly. It first involves the parts of the brain that control thought, memory and language. People with ad may have trouble remembering things that happened recently or names of people they know. A related problem, mild cognitive impairment , causes more memory problems than normal for people of the same age. Many, but not all, people with mci will develop AD. In ad, over time, symptoms get worse. People may not recognize family members. They may have trouble speaking, reading or writing. They may forget how to brush their teeth or comb their hair. Later on, they may become anxious or aggressive, or wander away from home. Eventually, they need total care. This can cause great stress for family members who must care for them. AD usually begins after age 60. The risk goes up as you get older. Your risk is also higher if a family member has had the disease. No treatment can stop the disease. However, some drugs may help keep symptoms from getting worse for a limited time. NIH: National Institute on Aging neurodegenerative disorder of the cns resulting in progressive loss of memory and intellectual functions; begins in the middle or later years; characterized by brain lesions such as neurofibrillary tangles and neuritic plaques. A degenerative disease of the brain characterized by the insidious onset of dementia. Impairment of memory, judgment, attention span, and problem solving skills are followed by severe apraxias and a global loss of cognitive abilities. The condition primarily occurs after age 60, and is marked pathologically by severe cortical atrophy and the triad of senile plaques; neurofibrillary tangles; and neuropil threads.  Alzheimer's disease with an early onset It is caused by mutations in the psen1 gene. Alzheimer's disease with an early onset It is caused by mutations in the psen1 gene. Alzheimer's disease with an early onset It is caused by mutations in the psen2 gene. Any Alzheimer disease in which the cause of the disease is a mutation in the PLD3 gene. Alzheimer's disease with an early onset It is caused by mutations in the psen1 gene. A degenerative disease of the brain characterized by the insidious onset of dementia. Impairment of memory, judgment, attention span, and problem solving skills are followed by severe apraxia and a global loss of cognitive abilities. The condition primarily occurs after age 60, and is marked pathologically by severe cortical atrophy and the triad of senile plaques, neurofibrillary tangles, and neuropil threads.  A brain disorder that usually starts in late middle age or old age and gets worse over time. Symptoms include loss of memory, confusion, difficulty thinking, and changes in language, behavior, and personality. A progressive, neurodegenerative disease characterized by loss of function and death of nerve cells in several areas of the brain leading to loss of cognitive function such as memory and language. A disabling degenerative disease of the nervous system occurring in middle-aged or older persons and characterized by dementia and failure of memory for recent events, followed by total incapacitation and death. Types of the Alzheimer syndrome are differentiated by the age of onset and genetic characteristics. The early onset form and the late onset form Three forms are identified: ad-1, ad-2, ad-3. Some of the clinical characteristics of the Alzheimer syndrome are similar to those of the Pick syndrome. Alzheimer's disease is the most common form of dementia among older people. Dementia is a brain disorder that seriously affects a person's ability to carry out daily activities. AD begins slowly. It first involves the parts of the brain that control thought, memory and language. People with ad may have trouble remembering things that happened recently or names of people they know. A related problem, mild cognitive impairment , causes more memory problems than normal for people of the same age. Many, but not all, people with mci will develop AD. In ad, over time, symptoms get worse. People may not recognize family members. They may have trouble speaking, reading or writing. They may forget how to brush their teeth or comb their hair. Later on, they may become anxious or aggressive, or wander away from home. Eventually, they need total care. This can cause great stress for family members who must care for them. AD usually begins after age 60. The risk goes up as you get older. Your risk is also higher if a family member has had the disease. No treatment can stop the disease. However, some drugs may help keep symptoms from getting worse for a limited time. NIH: National Institute on Aging neurodegenerative disorder of the cns resulting in progressive loss of memory and intellectual functions; begins in the middle or later years; characterized by brain lesions such as neurofibrillary tangles and neuritic plaques. A degenerative disease of the brain characterized by the insidious onset of dementia. Impairment of memory, judgment, attention span, and problem solving skills are followed by severe apraxias and a global loss of cognitive abilities. The condition primarily occurs after age 60, and is marked pathologically by severe cortical atrophy and the triad of senile plaques; neurofibrillary tangles; and neuropil threads.  A degenerative disease of the brain characterized by the insidious onset of dementia. Impairment of memory, judgment, attention span, and problem solving skills are followed by severe apraxia and a global loss of cognitive abilities. The condition primarily occurs after age 60, and is marked pathologically by severe cortical atrophy and the triad of senile plaques, neurofibrillary tangles, and neuropil threads.  A brain disorder that usually starts in late middle age or old age and gets worse over time. Symptoms include loss of memory, confusion, difficulty thinking, and changes in language, behavior, and personality. A progressive, neurodegenerative disease characterized by loss of function and death of nerve cells in several areas of the brain leading to loss of cognitive function such as memory and language. A disabling degenerative disease of the nervous system occurring in middle-aged or older persons and characterized by dementia and failure of memory for recent events, followed by total incapacitation and death. Types of the Alzheimer syndrome are differentiated by the age of onset and genetic characteristics. The early onset form and the late onset form Three forms are identified: ad-1, ad-2, ad-3. Some of the clinical characteristics of the Alzheimer syndrome are similar to those of the Pick syndrome. Alzheimer's disease is the most common form of dementia among older people. Dementia is a brain disorder that seriously affects a person's ability to carry out daily activities. AD begins slowly. It first involves the parts of the brain that control thought, memory and language. People with ad may have trouble remembering things that happened recently or names of people they know. A related problem, mild cognitive impairment , causes more memory problems than normal for people of the same age. Many, but not all, people with mci will develop AD. In ad, over time, symptoms get worse. People may not recognize family members. They may have trouble speaking, reading or writing. They may forget how to brush their teeth or comb their hair. Later on, they may become anxious or aggressive, or wander away from home. Eventually, they need total care. This can cause great stress for family members who must care for them. AD usually begins after age 60. The risk goes up as you get older. Your risk is also higher if a family member has had the disease. No treatment can stop the disease. However, some drugs may help keep symptoms from getting worse for a limited time. NIH: National Institute on Aging neurodegenerative disorder of the cns resulting in progressive loss of memory and intellectual functions; begins in the middle or later years; characterized by brain lesions such as neurofibrillary tangles and neuritic plaques. A degenerative disease of the brain characterized by the insidious onset of dementia. Impairment of memory, judgment, attention span, and problem solving skills are followed by severe apraxias and a global loss of cognitive abilities. The condition primarily occurs after age 60, and is marked pathologically by severe cortical atrophy and the triad of senile plaques; neurofibrillary tangles; and neuropil threads.  An exceedingly rare form of prion disease with characteristics of neuropathological features of Alzheimer disease including memory impairment and depression, related to abnormal prion protein caused by a gene mutation in prnp. Patients present with a prolonged, atypical course unlike other forms of prion disease, with severe neurofibrillary tangle pathology and high levels of cerebral amyloidosis.\n"
     ]
    }
   ],
   "source": [
    "print(cluster_as_raw_document(best_match,\"comunidades_infomap\"))"
   ]
  },
  {
   "cell_type": "code",
   "execution_count": 22,
   "metadata": {},
   "outputs": [],
   "source": [
    "class QueryModule():\n",
    "    def __init__(self,corpus):\n",
    "        # Tokenize the corpus and only keep the ids (faster and saves memory)\n",
    "        corpus_tokens = bm25s.tokenize(corpus, stopwords=\"en\")\n",
    "\n",
    "        # Create the BM25 model and index the corpus\n",
    "        self.retriever = bm25s.BM25()\n",
    "        self.retriever.index(corpus_tokens)\n",
    "    \n",
    "    def get_cluster(self, user_query):\n",
    "        query_tokens = bm25s.tokenize(user_query,stopwords=\"en\")\n",
    "        top_match = self.retriever.retrieve(query_tokens, return_as =\"documents\", k=2)\n",
    "        return int(top_match[0][0])"
   ]
  },
  {
   "cell_type": "code",
   "execution_count": 81,
   "metadata": {},
   "outputs": [
    {
     "data": {
      "application/vnd.jupyter.widget-view+json": {
       "model_id": "c7fc6f17f1ba456a9d8c6733c1264c9b",
       "version_major": 2,
       "version_minor": 0
      },
      "text/plain": [
       "Split strings:   0%|          | 0/1147 [00:00<?, ?it/s]"
      ]
     },
     "metadata": {},
     "output_type": "display_data"
    },
    {
     "data": {
      "application/vnd.jupyter.widget-view+json": {
       "model_id": "ef7f34a575cc4745bfebceecfeee20c1",
       "version_major": 2,
       "version_minor": 0
      },
      "text/plain": [
       "BM25S Count Tokens:   0%|          | 0/1147 [00:00<?, ?it/s]"
      ]
     },
     "metadata": {},
     "output_type": "display_data"
    },
    {
     "data": {
      "application/vnd.jupyter.widget-view+json": {
       "model_id": "105997c1221543488d73a023448fc1fc",
       "version_major": 2,
       "version_minor": 0
      },
      "text/plain": [
       "BM25S Compute Scores:   0%|          | 0/1147 [00:00<?, ?it/s]"
      ]
     },
     "metadata": {},
     "output_type": "display_data"
    }
   ],
   "source": [
    "query_module = QueryModule(corpus)"
   ]
  },
  {
   "cell_type": "code",
   "execution_count": 78,
   "metadata": {},
   "outputs": [
    {
     "data": {
      "application/vnd.jupyter.widget-view+json": {
       "model_id": "ffd1e239d4aa481eb590678b246cf4f2",
       "version_major": 2,
       "version_minor": 0
      },
      "text/plain": [
       "Split strings:   0%|          | 0/1 [00:00<?, ?it/s]"
      ]
     },
     "metadata": {},
     "output_type": "display_data"
    },
    {
     "data": {
      "application/vnd.jupyter.widget-view+json": {
       "model_id": "01a08cafa2a2447cbe4394a3451ea286",
       "version_major": 2,
       "version_minor": 0
      },
      "text/plain": [
       "BM25S Retrieve:   0%|          | 0/1 [00:00<?, ?it/s]"
      ]
     },
     "metadata": {},
     "output_type": "display_data"
    },
    {
     "data": {
      "text/plain": [
       "392"
      ]
     },
     "execution_count": 78,
     "metadata": {},
     "output_type": "execute_result"
    }
   ],
   "source": [
    "query_module.get_cluster(\"Show me diseases that affect memory\")"
   ]
  },
  {
   "cell_type": "markdown",
   "metadata": {},
   "source": [
    "# Basic RAG pipeline"
   ]
  },
  {
   "cell_type": "code",
   "execution_count": 2,
   "metadata": {},
   "outputs": [],
   "source": [
    "import requests\n",
    "import os\n",
    "from dotenv import load_dotenv\n",
    "from huggingface_hub import InferenceClient\n",
    "from transformers import pipeline\n",
    "\n",
    "load_dotenv(\".env\")\n",
    "API_TOKEN = os.getenv(\"biollama_gnn_exploration\")"
   ]
  },
  {
   "cell_type": "code",
   "execution_count": 3,
   "metadata": {},
   "outputs": [],
   "source": [
    "class GraphCorpus():\n",
    "    def __init__(self, data_path):\n",
    "        self.data_path = data_path\n",
    "        self.node_data = pd.read_csv(self.data_path+\"graph_node_data.csv\")\n",
    "\n",
    "        with open(self.data_path+\"processed_node_documents.pickle\", 'rb') as handle:\n",
    "            processed_node_documents = pickle.load(handle)\n",
    "        self.processed_node_documents = {int(k):v for k,v in processed_node_documents.items()}\n",
    "\n",
    "        raw_node_documents = pd.read_csv(self.data_path+\"disease_attributes.csv\")\n",
    "        self.disease_attributes = pd.merge(self.node_data[[\"node_index\",\"comunidades_infomap\"]],raw_node_documents,left_on=\"node_index\",right_on=\"node_index\",how=\"right\").set_index(\"node_index\",drop=True)\n",
    "    \n",
    "    def node_as_document(self,node_index,join_titles):\n",
    "        if not pd.isna(self.disease_attributes.loc[node_index,\"umls_description\"]):\n",
    "            data = self.disease_attributes.loc[node_index,[\"node_name\",\"umls_description\"]].values.astype(str)\n",
    "            if join_titles:\n",
    "                document = \" is described by UMLS as \".join(data)\n",
    "            else: \n",
    "                document = str(data[1])\n",
    "        elif not pd.isna(self.disease_attributes.loc[node_index,\"mondo_definition\"]):\n",
    "            data = self.disease_attributes.loc[node_index,[\"node_name\",\"mondo_definition\"]].values.astype(str)\n",
    "            if join_titles:\n",
    "                document = \" is defined by MONDO as \".join(data)\n",
    "            else: \n",
    "                document = str(data[1])\n",
    "        elif not pd.isna(self.disease_attributes.loc[node_index,\"orphanet_definition\"]):\n",
    "            data = self.disease_attributes.loc[node_index,[\"node_name\",\"orphanet_definition\"]].values.astype(str)\n",
    "            if join_titles:\n",
    "                document = \" is defined by Orphanet as \".join(data)\n",
    "            else: \n",
    "                document = str(data[1])\n",
    "        else:\n",
    "            document = self.disease_attributes.loc[node_index,\"node_name\"]\n",
    "        return document\n",
    "\n",
    "    def cluster_as_raw_document(self,cluster_id,join_titles=False):\n",
    "        cluster_nodes = self.node_data[self.node_data.node_type == \"disease\"].loc[self.node_data[\"comunidades_infomap\"] == cluster_id, \"node_index\"].values\n",
    "        cluster_corpus = [self.node_as_document(node_index,join_titles) for node_index in cluster_nodes]\n",
    "        cluster_document = \" \".join(cluster_corpus)\n",
    "\n",
    "        return cluster_document\n",
    "\n",
    "    def cluster_as_document(self,cluster_id):\n",
    "        cluster_nodes = self.node_data.loc[self.node_data[\"comunidades_infomap\"] == cluster_id, \"node_index\"].values\n",
    "        cluster_corpus = [self.processed_node_documents[node_index] for node_index in cluster_nodes]\n",
    "        cluster_document = \" \".join(cluster_corpus)\n",
    "\n",
    "        return cluster_document\n",
    "    \n",
    "    def get_cluster_corpus(self):\n",
    "        infomap_ids = range(int(self.node_data.dropna().comunidades_infomap.max()))\n",
    "    \n",
    "        return [self.cluster_as_document(cluster_id) for cluster_id in infomap_ids]\n",
    "    \n",
    "    def get_raw_cluster(self,cluster_id):\n",
    "        return self.cluster_as_raw_document(cluster_id)\n",
    "    "
   ]
  },
  {
   "cell_type": "code",
   "execution_count": 4,
   "metadata": {},
   "outputs": [],
   "source": [
    "class QueryModule():\n",
    "    def __init__(self,corpus):\n",
    "        # Tokenize the corpus and only keep the ids (faster and saves memory)\n",
    "        corpus_tokens = bm25s.tokenize(corpus, stopwords=\"en\")\n",
    "\n",
    "        # Create the BM25 model and index the corpus\n",
    "        self.retriever = bm25s.BM25()\n",
    "        self.retriever.index(corpus_tokens)\n",
    "    \n",
    "    def get_cluster(self, user_query):\n",
    "        query_tokens = bm25s.tokenize(user_query,stopwords=\"en\")\n",
    "        top_match = self.retriever.retrieve(query_tokens, return_as =\"documents\", k=2)\n",
    "        return int(top_match[0][0])"
   ]
  },
  {
   "cell_type": "code",
   "execution_count": 5,
   "metadata": {},
   "outputs": [],
   "source": [
    "user_query = \"What causes diabetes?\""
   ]
  },
  {
   "cell_type": "code",
   "execution_count": 6,
   "metadata": {},
   "outputs": [
    {
     "data": {
      "application/vnd.jupyter.widget-view+json": {
       "model_id": "8beb0e4d17b448f5aed4067b332220b9",
       "version_major": 2,
       "version_minor": 0
      },
      "text/plain": [
       "Split strings:   0%|          | 0/1147 [00:00<?, ?it/s]"
      ]
     },
     "metadata": {},
     "output_type": "display_data"
    },
    {
     "data": {
      "application/vnd.jupyter.widget-view+json": {
       "model_id": "e329f5bb503040e19edb0136d0fbf43b",
       "version_major": 2,
       "version_minor": 0
      },
      "text/plain": [
       "BM25S Count Tokens:   0%|          | 0/1147 [00:00<?, ?it/s]"
      ]
     },
     "metadata": {},
     "output_type": "display_data"
    },
    {
     "data": {
      "application/vnd.jupyter.widget-view+json": {
       "model_id": "7496ba63daf54ab1a4726b48bdd3b3fa",
       "version_major": 2,
       "version_minor": 0
      },
      "text/plain": [
       "BM25S Compute Scores:   0%|          | 0/1147 [00:00<?, ?it/s]"
      ]
     },
     "metadata": {},
     "output_type": "display_data"
    }
   ],
   "source": [
    "graph_corpus = GraphCorpus(\"../data/external/graph_data/\")\n",
    "cluster_corpus = graph_corpus.get_cluster_corpus()\n",
    "\n",
    "query_module = QueryModule(cluster_corpus)"
   ]
  },
  {
   "cell_type": "code",
   "execution_count": 7,
   "metadata": {},
   "outputs": [
    {
     "data": {
      "application/vnd.jupyter.widget-view+json": {
       "model_id": "6e672f5d7cd34f5caade311daa3e6848",
       "version_major": 2,
       "version_minor": 0
      },
      "text/plain": [
       "Split strings:   0%|          | 0/1 [00:00<?, ?it/s]"
      ]
     },
     "metadata": {},
     "output_type": "display_data"
    },
    {
     "data": {
      "application/vnd.jupyter.widget-view+json": {
       "model_id": "553077738168421196c7ba17126df08b",
       "version_major": 2,
       "version_minor": 0
      },
      "text/plain": [
       "BM25S Retrieve:   0%|          | 0/1 [00:00<?, ?it/s]"
      ]
     },
     "metadata": {},
     "output_type": "display_data"
    },
    {
     "data": {
      "text/plain": [
       "'Any maturity-onset diabetes of the young in which the cause of the disease is a mutation in the CEL gene. A rare autosomal dominant form of diabetes mellitus affecting young people with a positive family history. mody is a form of monogenic diabetes, resulting from mutations in a single gene. The most common forms are HNF1alpha-MODY and gck-mody , due to mutations in the hnf1a and gck genes, respectively. The term Maturity-onset diabetes of the young was initially used for patients diagnosed with fasting hyperglycemia that could be treated without insulin for more than two years, where the initial diagnosis was made at a young age Thus, mody combines characteristics of type 1 diabetes and type 2 diabetes The term mody is now most often used to refer to a group of monogenic diseases with these characteristics. Here, the term is used to describe hyperglycemia diagnosed at a young age with no or minor insulin dependency, no evidence of insulin resistence, and lack of evidence of autoimmune destruction of the beta cells.  Monogenic diabetes caused by inactivating mutation in the gene hnf1b, encoding hepatocyte nuclear factor 1-beta. In addition to diabetes, this condition may be associated with renal cysts and urogenital anomalies. Homozygous hnf1b mutations result in permanent neonatal diabetes. Monogenic diabetes caused by inactivating mutation in the gene hnf4a, encoding hepatocyte nuclear factor 4-alpha. Monogenic diabetes caused by inactivating mutation in the gene hnf1a, encoding hepatocyte nuclear factor 1-alpha. Any maturity-onset diabetes of the young in which the cause of the disease is a mutation in the KLF11 gene. Monogenic diabetes caused by inactivating mutation in the gene neurod1, encoding neurogenic differentiation 1. In addition to diabetes, this condition may be associated with neurogenic anomalies. Homozygous neurod1 mutations result in permanent neonatal diabetes. Any maturity-onset diabetes of the young in which the cause of the disease is a mutation in the INS gene. Any maturity-onset diabetes of the young in which the cause of the disease is a mutation in the APPL1 gene. Any maturity-onset diabetes of the young in which the cause of the disease is a mutation in the BLK gene. Monogenic diabetes caused by inactivating mutation in the pdx1 gene, encoding pancreas/duodenum homeobox protein 1. Homozygous pdx1 mutations result in permanent neonatal diabetes. A rare autosomal dominant form of diabetes mellitus affecting young people with a positive family history. mody is a form of monogenic diabetes, resulting from mutations in a single gene. The most common forms are HNF1alpha-MODY and gck-mody , due to mutations in the hnf1a and gck genes, respectively. The term Maturity-onset diabetes of the young was initially used for patients diagnosed with fasting hyperglycemia that could be treated without insulin for more than two years, where the initial diagnosis was made at a young age Thus, mody combines characteristics of type 1 diabetes and type 2 diabetes The term mody is now most often used to refer to a group of monogenic diseases with these characteristics. Here, the term is used to describe hyperglycemia diagnosed at a young age with no or minor insulin dependency, no evidence of insulin resistence, and lack of evidence of autoimmune destruction of the beta cells.  Any maturity-onset diabetes of the young in which the cause of the disease is a mutation in the PAX4 gene. Any maturity-onset diabetes of the young in which the cause of the disease is a mutation in the KCNJ11 gene. Any Fanconi syndrome in which the cause of the disease is a mutation in the HNF4A gene.'"
      ]
     },
     "execution_count": 7,
     "metadata": {},
     "output_type": "execute_result"
    }
   ],
   "source": [
    "cluster_id = query_module.get_cluster(user_query)\n",
    "graph_corpus.get_raw_cluster(cluster_id)"
   ]
  },
  {
   "cell_type": "code",
   "execution_count": 8,
   "metadata": {},
   "outputs": [
    {
     "name": "stdout",
     "output_type": "stream",
     "text": [
      "Alopecia\n"
     ]
    }
   ],
   "source": [
    "process_query_context = {\"role\":\"system\",\"content\":f\"In the following text, extract only the disease subject. Be concise and ONLY answer the disease name\"}\n",
    "text_client = InferenceClient(\"meta-llama/Meta-Llama-3-8B-Instruct\", token=API_TOKEN)\n",
    "messages = [process_query_context,\n",
    "{\"role\":\"user\",\"content\":\"hello is it me youre lookjinf for ?? conditions with hair loss\"}]\n",
    "\n",
    "answer = text_client.chat_completion(messages, max_tokens=100)\n",
    "\n",
    "print(answer.get(\"choices\")[0][\"message\"][\"content\"])"
   ]
  },
  {
   "cell_type": "code",
   "execution_count": 14,
   "metadata": {},
   "outputs": [
    {
     "data": {
      "application/vnd.jupyter.widget-view+json": {
       "model_id": "c56b913de0214a698466fa683b048a35",
       "version_major": 2,
       "version_minor": 0
      },
      "text/plain": [
       "Split strings:   0%|          | 0/1 [00:00<?, ?it/s]"
      ]
     },
     "metadata": {},
     "output_type": "display_data"
    },
    {
     "data": {
      "application/vnd.jupyter.widget-view+json": {
       "model_id": "898183f511cb4d599ef29ee9c0dae4d3",
       "version_major": 2,
       "version_minor": 0
      },
      "text/plain": [
       "BM25S Retrieve:   0%|          | 0/1 [00:00<?, ?it/s]"
      ]
     },
     "metadata": {},
     "output_type": "display_data"
    },
    {
     "name": "stdout",
     "output_type": "stream",
     "text": [
      "Obessive-Compulsive Disorder (OCD) is a mental health condition where individuals experience recurring, intrusive thoughts (obsessions) and repetitive behaviors (compulsions) that they feel are necessary or urgent. These thoughts and behaviors can interfere with an individual's daily life, relationships, and work.\n",
      "\n",
      "Here are some key things to know about OCD:\n",
      "\n",
      "**Causes:** The exact cause of OCD is still unknown, but research suggests that it may be related to a combination of genetic, environmental,\n"
     ]
    }
   ],
   "source": [
    "user_query = \"I want to learn more about obsessive compulsive disorder\"\n",
    "\n",
    "process_query_context = {\"role\":\"system\",\"content\":\"In the following text, extract only the disease subject. Be concise and ONLY answer the disease name\"}\n",
    "text_client = InferenceClient(\"meta-llama/Meta-Llama-3-8B-Instruct\", token=API_TOKEN)\n",
    "messages = [process_query_context,\n",
    "{\"role\":\"user\",\"content\":user_query}]\n",
    "\n",
    "answer = text_client.chat_completion(messages, max_tokens=100)\n",
    "disease_subject = answer.get(\"choices\")[0][\"message\"][\"content\"]\n",
    "\n",
    "cluster_id = query_module.get_cluster(disease_subject)\n",
    "disease_info = graph_corpus.get_raw_cluster(cluster_id)\n",
    "\n",
    "form_answer_context = {\"role\":\"system\", \"content\":f\"You are a research assistant. You provide clear and concise answers, based only in the following information: {disease_info}\"}\n",
    "messages = [form_answer_context,\n",
    "{\"role\":\"user\",\"content\":user_query}]\n",
    "\n",
    "answer = text_client.chat_completion(messages, max_tokens=100)\n",
    "\n",
    "print(answer.get(\"choices\")[0][\"message\"][\"content\"])"
   ]
  },
  {
   "cell_type": "code",
   "execution_count": 15,
   "metadata": {},
   "outputs": [
    {
     "data": {
      "text/plain": [
       "\"Inadequate responses to physical, social, and emotional demands; general ineptness and instability, despite absence of actual physical or mental deficit. Personality disorder characterized by pervasive patterns of dependent, passive, and submissive behavior. A personality disorder characterized by a pervasive and excessive need to be taken care of that leads to submissive and clinging behavior and fears of separation, beginning by early adulthood and present in a variety of contexts.  A disorder characterized by an enduring pattern of an extreme need to be taken care of together with fear of separation that lead the individual to urgently seek out and submit to another person and allow that person to make decisions that impact all areas of the individual's life. Personality disorders are a group of mental illnesses. They involve long-term patterns of thoughts and behaviors that are unhealthy and inflexible. The behaviors cause serious problems with relationships and work. People with personality disorders have trouble dealing with everyday stresses and problems. They often have stormy relationships with other people. The cause of personality disorders is unknown. However, genes and childhood experiences may play a role. The symptoms of each personality disorder are different. They can mild or severe. People with personality disorders may have trouble realizing that they have a problem. To them, their thoughts are normal, and they often blame others for their problems. They may try to get help because of their problems with relationships and work. Treatment usually includes talk therapy and sometimes medicine. A diverse category of psychiatric disorders characterized by behavior that deviates markedly from the expectations of the individual's culture; this pattern of deviation is pervasive and inflexible and is stable over time. The behavioral pattern negatively interferes with relationships and work. personality disorder whose essential feature is a pervasive pattern of disregard for, and violation of, the rights of others through aggressive, antisocial behavior, without remorse or loyalty to anyone. A major deviation from normal patterns of behavior. Personality disorder characterized by conflict with others, low frustration tolerance, inadequate conscience development, and rejection of authority and discipline. A personality disorder whose essential feature is a pervasive pattern of disregard for, and violation of, the rights of others that begins in childhood or early adolescence and continues into adulthood. The individual must be at least age 18 and must have a history of some symptoms of conduct disorder before age 15.  An abnormality of mental functioning affecting the personality and behavioural tendencies of an individual and characterized by a rigid and unhealthy pattern of thinking and behavior. The definition of a personal disorder implies that the abnormality is not the result of damage or insult to the brain or from another psychiatric disorder.  when normal personality traits become inflexible and maladaptive, causing subjective distress or impaired social functioning, they can be considered disorders. A disorder characterized by a pervasive pattern of disregard for and violation of the rights of others that is manifested in childhood or early adolescence.  Personality disorders are a group of mental illnesses. They involve long-term patterns of thoughts and behaviors that are unhealthy and inflexible. The behaviors cause serious problems with relationships and work. People with personality disorders have trouble dealing with everyday stresses and problems. They often have stormy relationships with other people. The cause of personality disorders is unknown. However, genes and childhood experiences may play a role. The symptoms of each personality disorder are different. They can mild or severe. People with personality disorders may have trouble realizing that they have a problem. To them, their thoughts are normal, and they often blame others for their problems. They may try to get help because of their problems with relationships and work. Treatment usually includes talk therapy and sometimes medicine. Personality disorder characterized by excessive social discomfort, extreme sensitivity to negative perceptions of oneself, pervasive preoccupation with being criticized or rejected in social situations, and low self esteem. A diverse category of psychiatric disorders characterized by behavior that deviates markedly from the expectations of the individual's culture; this pattern of deviation is pervasive and inflexible and is stable over time. The behavioral pattern negatively interferes with relationships and work. A disorder characterized by an enduring pattern of avoidance of social situations and interpersonal contact due to overwhelming feelings of social inadequacy and a hypersensitivity to negative evaluation or rejection. A disorder characterized by an enduring pattern of grandiose beliefs and arrogant behavior together with an overwhelming need for admiration and a lack of empathy for others. Inadequate responses to physical, social, and emotional demands; general ineptness and instability, despite absence of actual physical or mental deficit. Personality disorder characterized by excessive self-love, egocentrism, grandiosity, exhibitionism, excessive needs for attention, and sensitivity to criticism. A major deviation from normal patterns of behavior. An abnormality of mental functioning affecting the personality and behavioural tendencies of an individual and characterized by a rigid and unhealthy pattern of thinking and behavior. The definition of a personal disorder implies that the abnormality is not the result of damage or insult to the brain or from another psychiatric disorder.  when normal personality traits become inflexible and maladaptive, causing subjective distress or impaired social functioning, they can be considered disorders. Personality disorder characterized by alienation, shyness, oversensitivity, seclusiveness, egocentricity, avoidance of intimate relationships, autistic thinking, and withdrawal from and lack of response to the environment. A disorder characterized by an enduring pattern of extreme social detachment and lack of involvement in interpersonal activities, coupled with emotional coldness. A personality disorder manifested by a profound defect in the ability to form social relationships, no desire for social involvement, and an indifference to praise or criticism. individuals exhibit a pervasive pattern of indifference to social relationships and a restricted range of emotional experience and expression, beginning by early adulthood and present in a variety of contexts. Personality disorders are a group of mental illnesses. They involve long-term patterns of thoughts and behaviors that are unhealthy and inflexible. The behaviors cause serious problems with relationships and work. People with personality disorders have trouble dealing with everyday stresses and problems. They often have stormy relationships with other people. The cause of personality disorders is unknown. However, genes and childhood experiences may play a role. The symptoms of each personality disorder are different. They can mild or severe. People with personality disorders may have trouble realizing that they have a problem. To them, their thoughts are normal, and they often blame others for their problems. They may try to get help because of their problems with relationships and work. Treatment usually includes talk therapy and sometimes medicine. A diverse category of psychiatric disorders characterized by behavior that deviates markedly from the expectations of the individual's culture; this pattern of deviation is pervasive and inflexible and is stable over time. The behavioral pattern negatively interferes with relationships and work. personality disorder whose essential feature is a pervasive pattern of disregard for, and violation of, the rights of others through aggressive, antisocial behavior, without remorse or loyalty to anyone. Behavior that sharply deviates from social norms and violates rights of others A deliberate pattern of behavior that demonstrates both willful aggression toward other people and an intentional disregard for the common, current norms of social conduct. Describes behavior that ignores the rights of others and the practices and laws of society. A major deviation from normal patterns of behavior. Personality disorder characterized by conflict with others, low frustration tolerance, inadequate conscience development, and rejection of authority and discipline. A personality disorder whose essential feature is a pervasive pattern of disregard for, and violation of, the rights of others that begins in childhood or early adolescence and continues into adulthood. The individual must be at least age 18 and must have a history of some symptoms of conduct disorder before age 15.  An abnormality of mental functioning affecting the personality and behavioural tendencies of an individual and characterized by a rigid and unhealthy pattern of thinking and behavior. The definition of a personal disorder implies that the abnormality is not the result of damage or insult to the brain or from another psychiatric disorder.  when normal personality traits become inflexible and maladaptive, causing subjective distress or impaired social functioning, they can be considered disorders. A disorder characterized by a pervasive pattern of disregard for and violation of the rights of others that is manifested in childhood or early adolescence.  A personality disorder in which there are oddities of thought , perception , speech , and behavior that are not severe enough to characterize schizophrenia. A disorder characterized by an enduring pattern of inability to establish close relationships coupled with cognitive or perceptual distortions, odd beliefs and speech, and eccentric behavior and appearance. Personality disorder characterized by eccentric thoughts and appearance, inappropriate affect and behavior, extreme social anxiety, and limited interpersonal interaction. A serious mental illness marked by unstable moods and impulsive behavior. People with bpd have problems with relationships, family and work life, long-term planning, and self-identity. Symptoms include intense bouts of anger, depression, and anxiety that may lead to self-injury or suicide, drug or alcohol abuse, excessive spending, binge eating, or risky sex. A person with bpd who is diagnosed with cancer may be at an increased risk of suicide. Personality disorder with maladaptive patterns of behavior characterized by impulsive and unpredictable actions, mood instability, and unstable interpersonal relationships. severe personality disorder that develops in early childhood; characterized by a lack of control of anger, intense and frequent mood changes, impulsive acts, disturbed interpersonal relationships, and life-threatening behaviors. A disorder characterized by an enduring pattern of unstable self-image and mood together with volatile interpersonal relationships, self-damaging impulsivity, recurrent suicidal threats or gestures and/or self-mutilating behavior. Disorder characterized by discrete episodes of loss of control of aggressive impulses that may result in serious assault or destruction of property. A personality disorder marked by a pattern of instability of interpersonal relationships, self-image, and affects, and marked impulsivity beginning by early adulthood and present in a variety of contexts.  A personality disorder characterized by impulsive behavior and unpredictable and capricious mood. Affected individuals show a liability to outbursts of emotion and an incapacity to control the behavioural explosions.  An anxiety disorder characterized by recurrent, persistent obsessions or compulsions. Obsessions are the intrusive ideas, thoughts, or images that are experienced as senseless or repugnant. Compulsions are repetitive and seemingly purposeful behavior which the individual generally recognizes as senseless and from which the individual does not derive pleasure although it may provide a release from tension. An anxiety disorder in which a person has intrusive ideas, thoughts, or images that occur repeatedly, and in which he or she feels driven to perform certain behaviors over and over again. For example, a person may worry all the time about germs and so will wash his or her hands over and over again. Having an obsessive-compulsive disorder may cause a person to have trouble carrying out daily activities. Disorder characterized by recurrent obsessions or compulsions that may interfere with the individual's daily functioning or serve as a source of distress. What is obsessive-compulsive disorder ? Obsessive-compulsive disorder is a mental disorder in which you have thoughts and rituals over and over. They interfere with your life, but you cannot control or stop them. What causes obsessive-compulsive disorder ? The cause of obsessive-compulsive disorder is unknown. Factors such as genetics, brain biology and chemistry, and your environment may play a role. Who is at risk for obsessive-compulsive disorder ? Obsessive-compulsive disorder usually begins when you are a teen or young adult. Boys often develop ocd at a younger age than girls. Risk factors for ocd include Family history. People with a first-degree relative who has ocd are at higher risk. This is especially true if the relative developed ocd as a child or teen. Brain structure and functioning. Imaging studies have shown that people with ocd have differences in certain parts of the brain. Researchers need to do more studies to understand the connection between the brain differences and OCD. Childhood trauma, such as child abuse. Some studies have found a link between trauma in childhood and ocd. More research is needed to understand this relationship better. In some cases, children may develop ocd or ocd symptoms following a streptococcal infection. This is called Pediatric Autoimmune Neuropsychiatric Disorders Associated with Streptococcal Infections What are the symptoms of obsessive-compulsive disorder ? People with ocd may have symptoms of obsessions, compulsions, or both: Obsessions are repeated thoughts, urges, or mental images that cause anxiety. They may involve things such as Fear of germs or contamination Fear of losing or misplacing something Worries about harm coming towards yourself or others Unwanted forbidden thoughts involving sex or religion Aggressive thoughts towards yourself or others Needing things lined up exactly or arranged in a particular, precise way Compulsions are behaviors that you feel like you need to do over and over to try to reduce your anxiety or stop the obsessive thoughts. Some common compulsions include Excessive cleaning and/or handwashing Repeatedly checking on things, such as whether the door is locked or the oven is off Compulsive counting Ordering and arranging things in a particular, precise way Some people with ocd also have a Tourette syndrome or another tic disorder. Tics are sudden twitches, movements, or sounds that people do repeatedly. People who have tics cannot stop their body from doing these things. How is obsessive-compulsive disorder diagnosed? The first step is to talk with your health care provider about your symptoms. Your provider should do an exam and ask you about your health history. He or she needs to make sure that a physical problem is not causing your symptoms. If it seems to be a mental problem, your provider may refer you to a mental health specialist for further evaluation or treatment. Obsessive-compulsive disorder can sometimes be hard to diagnose. Its symptoms are like those of other mental disorders, such as anxiety disorders. It is also possible to have both ocd and another mental disorder. Not everyone who has obsessions or compulsions has ocd. Your symptoms would usually be considered ocd when you Can't control your thoughts or behaviors, even when you know that they are excessive Spend at least 1 hour a day on these thoughts or behaviors Don't get pleasure when performing the behaviors. But doing them may briefly give you relief from the anxiety that your thoughts cause. Have significant problems in your daily life because of these thoughts or behaviors What are the treatments for obsessive-compulsive disorder ? The main treatments for obsessive-compulsive disorder are cognitive behavioral therapy, medicines, or both: Cognitive behavioral therapy is a type of psychotherapy. It teaches you different ways of thinking, behaving, and reacting to the obsessions and compulsions. One specific type of cbt that can treat ocd is called Exposure and Response Prevention ex/rp involves gradually exposing you to your fears or obsessions. You learn healthy ways to deal with the anxiety they cause. Medicines for ocd include certain types of antidepressants. If those don't work for you, your provider may suggest taking some other type of psychiatric medicine. NIH: National Institute of Mental Health  anxiety disorder characterized by recurrent, persistent obsessions or compulsions: obsessions are the intrusive ideas, thoughts, or images that are experienced as senseless or repugnant; compulsions are repetitive and seemingly purposeful behavior which the individual generally recognizes as senseless and from which the individual does not derive pleasure although it may provide a release from tension. A disorder characterized by the presence of persistent and recurrent irrational thoughts , resulting in marked anxiety and repetitive excessive behaviors as a way to try to decrease that anxiety. Personality disorder characterized by perfectionism, indecisiveness, excessive devotion to work, inability to express warm emotions, and insistence that things be done in accord with one's own preferences. A disorder characterized by an enduring pattern of inflexibility, extreme orderliness, and perfectionism which interfere with efficiency and which may manifest in many different contexts, including work and leisure activities, financial matters, and issues of morality or ethics. Disorder characterized by an emotionally constricted manner that is unduly conventional, serious, formal, and stingy, by preoccupation with trivial details, rules, order, organization, schedules, and lists, by stubborn insistence on having things one's own way without regard for the effects on others, by poor interpersonal relationships, and by indecisiveness due to fear of making mistakes. Personality disorder characterized by perfectionism, indecisiveness, excessive devotion to work, inability to express warm emotions, and insistence that things be done in accord with one's own preferences. A disorder characterized by an enduring pattern of inflexibility, extreme orderliness, and perfectionism which interfere with efficiency and which may manifest in many different contexts, including work and leisure activities, financial matters, and issues of morality or ethics. Disorder characterized by an emotionally constricted manner that is unduly conventional, serious, formal, and stingy, by preoccupation with trivial details, rules, order, organization, schedules, and lists, by stubborn insistence on having things one's own way without regard for the effects on others, by poor interpersonal relationships, and by indecisiveness due to fear of making mistakes.\""
      ]
     },
     "execution_count": 15,
     "metadata": {},
     "output_type": "execute_result"
    }
   ],
   "source": [
    "disease_info"
   ]
  },
  {
   "cell_type": "markdown",
   "metadata": {},
   "source": [
    "# Generate titles and summarize clusters (TODO)"
   ]
  },
  {
   "cell_type": "markdown",
   "metadata": {},
   "source": [
    "Use LLMs to extract summaries of clusters, finding symptoms and potential risk factors."
   ]
  },
  {
   "cell_type": "code",
   "execution_count": null,
   "metadata": {},
   "outputs": [],
   "source": []
  },
  {
   "cell_type": "markdown",
   "metadata": {},
   "source": [
    "Use T5 to generate cluster titles and summaries"
   ]
  },
  {
   "cell_type": "code",
   "execution_count": 97,
   "metadata": {},
   "outputs": [],
   "source": [
    "import requests\n",
    "import os\n",
    "from dotenv import load_dotenv\n",
    "from huggingface_hub import InferenceClient\n",
    "from transformers import pipeline\n",
    "\n",
    "load_dotenv(\".env\")\n",
    "API_TOKEN = os.getenv(\"biollama_gnn_exploration\")"
   ]
  },
  {
   "cell_type": "code",
   "execution_count": 98,
   "metadata": {},
   "outputs": [],
   "source": [
    "summarizer = pipeline(\"summarization\", model=\"t5-small\")"
   ]
  },
  {
   "cell_type": "code",
   "execution_count": 125,
   "metadata": {},
   "outputs": [
    {
     "name": "stderr",
     "output_type": "stream",
     "text": [
      "Token indices sequence length is longer than the specified maximum sequence length for this model (9373 > 512). Running this sequence through the model will result in indexing errors\n"
     ]
    },
    {
     "ename": "",
     "evalue": "",
     "output_type": "error",
     "traceback": [
      "\u001b[1;31mThe Kernel crashed while executing code in the current cell or a previous cell. \n",
      "\u001b[1;31mPlease review the code in the cell(s) to identify a possible cause of the failure. \n",
      "\u001b[1;31mClick <a href='https://aka.ms/vscodeJupyterKernelCrash'>here</a> for more info. \n",
      "\u001b[1;31mView Jupyter <a href='command:jupyter.viewOutput'>log</a> for further details."
     ]
    }
   ],
   "source": [
    "cluster_info = cluster_as_raw_document(best_match,\"comunidades_infomap\")\n",
    "summary = summarizer(cluster_info, max_length=20, min_length=10, do_sample=False)\n",
    "print(summary[0]['summary_text'])"
   ]
  }
 ],
 "metadata": {
  "kernelspec": {
   "display_name": "env",
   "language": "python",
   "name": "python3"
  },
  "language_info": {
   "codemirror_mode": {
    "name": "ipython",
    "version": 3
   },
   "file_extension": ".py",
   "mimetype": "text/x-python",
   "name": "python",
   "nbconvert_exporter": "python",
   "pygments_lexer": "ipython3",
   "version": "3.10.12"
  }
 },
 "nbformat": 4,
 "nbformat_minor": 2
}
